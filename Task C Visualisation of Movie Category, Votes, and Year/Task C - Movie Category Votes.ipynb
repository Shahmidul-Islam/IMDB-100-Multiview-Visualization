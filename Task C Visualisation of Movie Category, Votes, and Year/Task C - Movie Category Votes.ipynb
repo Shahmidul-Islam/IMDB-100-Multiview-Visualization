{
 "cells": [
  {
   "cell_type": "markdown",
   "id": "a7754cdc",
   "metadata": {},
   "source": [
    "# Task C: Visualisation of Movie Category, Votes, and Year\n",
    "\n",
    "The top 99 highest rated IMDB movies are visualised in this demonstration. We display how the category of a movie affects the total votes received. In essence, this shows us how categories affect popularity and allow the user to filter the movies based on the year.\n",
    "\n",
    "## Instructions\n",
    "\n",
    "1. The full range of years and votes is allowed by default. The sliders can be adjusted to restrict the ranges freely and the graphs will reflect the updated range. Use the sidebar on the left for this.\n",
    "2. There is also a slider that changes the height of the charts.\n",
    "3. Hovering over the points will show related information on tooltips.\n",
    "4. The scatter plot allows rectangular selection and the bar chart allows interval selection. The brushes selectively highlight on both plots. The selection area can be moved around by dragging. The size can be changed by scrolling on the selected area.\n",
    "5. Click outside the selection area to deselect and reset the plot."
   ]
  },
  {
   "cell_type": "code",
   "execution_count": null,
   "id": "08068c51",
   "metadata": {},
   "outputs": [],
   "source": [
    "# %%capture\n",
    "# Code comments are not visible to the end-user\n",
    "# !pip install altair\n",
    "# !pip install mercury\n",
    "# !pip install pandas"
   ]
  },
  {
   "cell_type": "code",
   "execution_count": 2,
   "id": "6445dbc2",
   "metadata": {
    "scrolled": true
   },
   "outputs": [],
   "source": [
    "# Import the necessary packages\n",
    "import altair as alt  # For interactive and custom visuals\n",
    "import pandas as pd   # For working with the dataset\n",
    "import mercury as mr  # For additional input and filtering capabilities"
   ]
  },
  {
   "cell_type": "code",
   "execution_count": 3,
   "id": "d2db0f83",
   "metadata": {},
   "outputs": [],
   "source": [
    "# We load in the data set from the CSV file\n",
    "movies = pd.read_csv('data/imdb100/movies.csv')\n",
    "# movies"
   ]
  },
  {
   "cell_type": "code",
   "execution_count": 4,
   "id": "bb07f743",
   "metadata": {},
   "outputs": [],
   "source": [
    "def clean_year(year):\n",
    "    \"\"\"\n",
    "    Removes the parentheses and returns only the year integer value\n",
    "    \"\"\"\n",
    "    return year[1:-1]"
   ]
  },
  {
   "cell_type": "code",
   "execution_count": 5,
   "id": "92d69282",
   "metadata": {},
   "outputs": [],
   "source": [
    "def clean_votes(votes):\n",
    "    \"\"\"\n",
    "    Removes the commas and converts votes to usable integer value\n",
    "    \"\"\"\n",
    "    return int(votes.replace(\",\", \"\"))"
   ]
  },
  {
   "cell_type": "code",
   "execution_count": 6,
   "id": "3fe4740e",
   "metadata": {},
   "outputs": [],
   "source": [
    "# Assign the cleaned year value to a new column\n",
    "movies['Year'] = movies['year_of_release'].apply(clean_year)\n",
    "\n",
    "# Do the same for votes\n",
    "movies['Votes'] = movies['votes'].apply(clean_votes)\n",
    "# movies"
   ]
  },
  {
   "cell_type": "code",
   "execution_count": 7,
   "id": "8d315bc5",
   "metadata": {},
   "outputs": [],
   "source": [
    "# Remove the extra columns\n",
    "movies.drop(columns=[\n",
    "    'gross_total', 'year_of_release', 'run_time', 'genre', 'votes'\n",
    "], inplace=True)\n",
    "\n",
    "# Rename the rest of the columns to cleaner names\n",
    "movies.rename(columns={\n",
    "    'index': 'Rank', 'movie_name': 'Movie Name', 'category': 'Category', 'imdb_rating': 'Rating'\n",
    "}, inplace=True)\n",
    "\n",
    "# Assign types for easier type inference\n",
    "movies = movies.astype({\n",
    "    'Rank': 'int',\n",
    "    'Movie Name': 'string',\n",
    "    'Category': 'string',\n",
    "    'Votes': 'int',\n",
    "    'Year': 'int',\n",
    "    'Rating': 'float'\n",
    "})\n",
    "# movies.dtypes"
   ]
  },
  {
   "cell_type": "code",
   "execution_count": 8,
   "id": "c10593ad",
   "metadata": {},
   "outputs": [],
   "source": [
    "# Extract all individual categories present in the Category column values\n",
    "categories = list(set(movies['Category']))\n",
    "# categories"
   ]
  },
  {
   "cell_type": "code",
   "execution_count": 9,
   "id": "513cabb7",
   "metadata": {},
   "outputs": [
    {
     "data": {
      "application/mercury+json": "{\n    \"widget\": \"App\",\n    \"title\": \"\",\n    \"description\": \"A visualisation with interactive plots showing the relationship between income, rating, and category.\",\n    \"show_code\": false,\n    \"show_prompt\": false,\n    \"share\": \"public\",\n    \"output\": \"app\",\n    \"schedule\": \"\",\n    \"notify\": \"{}\",\n    \"continuous_update\": true,\n    \"static_notebook\": false,\n    \"show_sidebar\": true,\n    \"full_screen\": true,\n    \"allow_download\": false,\n    \"model_id\": \"mercury-app\",\n    \"code_uid\": \"App.0.40.25.1-rand9c1c6adb\"\n}",
      "text/html": [
       "<h3>Mercury Application</h3><small>This output won't appear in the web app.</small>"
      ],
      "text/plain": [
       "mercury.App"
      ]
     },
     "metadata": {},
     "output_type": "display_data"
    }
   ],
   "source": [
    "app = mr.App(\n",
    "    description=\"A visualisation with interactive plots showing the relationship between income, rating, and category.\",\n",
    "    show_code=False,\n",
    "    show_prompt=False,\n",
    "    continuous_update=True,\n",
    "    static_notebook=False,\n",
    "    show_sidebar=True,\n",
    "    full_screen=True,\n",
    "    allow_download=False,\n",
    ")"
   ]
  },
  {
   "cell_type": "code",
   "execution_count": 10,
   "id": "f1df19f8",
   "metadata": {},
   "outputs": [
    {
     "data": {
      "application/mercury+json": "{\n    \"widget\": \"Slider\",\n    \"value\": 380,\n    \"min\": 350,\n    \"max\": 600,\n    \"step\": 20,\n    \"label\": \"Chart height\",\n    \"model_id\": \"475158ebdde248fbbd6656796df33085\",\n    \"code_uid\": \"Slider.0.40.16.2-rand9db99f5c\"\n}",
      "application/vnd.jupyter.widget-view+json": {
       "model_id": "475158ebdde248fbbd6656796df33085",
       "version_major": 2,
       "version_minor": 0
      },
      "text/plain": [
       "mercury.Slider"
      ]
     },
     "metadata": {},
     "output_type": "display_data"
    }
   ],
   "source": [
    "# Chart configuration parameters\n",
    "chart_height = mr.Slider(value=380, min=350, max=600, label=\"Chart height\", step=20)\n",
    "chart_width = 600"
   ]
  },
  {
   "cell_type": "code",
   "execution_count": 11,
   "id": "8e6f5826",
   "metadata": {},
   "outputs": [
    {
     "data": {
      "application/mercury+json": "{\n    \"widget\": \"Range\",\n    \"value\": [\n        1931,\n        2015\n    ],\n    \"min\": 1931,\n    \"max\": 2015,\n    \"step\": 1,\n    \"label\": \"Year of release\",\n    \"model_id\": \"d15dd2d4a4ab4934bea312c77d718edb\",\n    \"code_uid\": \"Range.0.40.20.4-rand57a5841f\"\n}",
      "application/vnd.jupyter.widget-view+json": {
       "model_id": "d15dd2d4a4ab4934bea312c77d718edb",
       "version_major": 2,
       "version_minor": 0
      },
      "text/plain": [
       "mercury.Range"
      ]
     },
     "metadata": {},
     "output_type": "display_data"
    }
   ],
   "source": [
    "# Year selection tool\n",
    "min_year = min(movies['Year'])\n",
    "max_year = max(movies['Year'])\n",
    "selected_years = mr.Range(value=[min_year, max_year], min=min_year, max=max_year, label=\"Year of release\", step=1)"
   ]
  },
  {
   "cell_type": "code",
   "execution_count": 12,
   "id": "3d7f57e3",
   "metadata": {},
   "outputs": [
    {
     "data": {
      "application/mercury+json": "{\n    \"widget\": \"Range\",\n    \"value\": [\n        10000,\n        2684000\n    ],\n    \"min\": 10000,\n    \"max\": 2684000,\n    \"step\": 1000,\n    \"label\": \"Votes\",\n    \"model_id\": \"69a53e7429e5445fa022384fb98abf82\",\n    \"code_uid\": \"Range.0.40.20.6-rand94b173b0\"\n}",
      "application/vnd.jupyter.widget-view+json": {
       "model_id": "69a53e7429e5445fa022384fb98abf82",
       "version_major": 2,
       "version_minor": 0
      },
      "text/plain": [
       "mercury.Range"
      ]
     },
     "metadata": {},
     "output_type": "display_data"
    }
   ],
   "source": [
    "# Vote selection tool\n",
    "min_votes = min(movies['Votes'])\n",
    "min_votes = int(min_votes / 1000) * 1000\n",
    "max_votes = max(movies['Votes'])\n",
    "max_votes = int(1 + max_votes / 1000) * 1000\n",
    "selected_votes = mr.Range(value=[min_votes, max_votes], min=min_votes, max=max_votes, label=\"Votes\", step=1000)"
   ]
  },
  {
   "cell_type": "code",
   "execution_count": 13,
   "id": "ab8fc7a4",
   "metadata": {},
   "outputs": [],
   "source": [
    "# selected_categories.value"
   ]
  },
  {
   "cell_type": "code",
   "execution_count": 14,
   "id": "9a8b0953",
   "metadata": {},
   "outputs": [],
   "source": [
    "# Filter based on the year and votes\n",
    "y_min = selected_years.value[0]\n",
    "y_max = selected_years.value[1]\n",
    "v_min = selected_votes.value[0]\n",
    "v_max = selected_votes.value[1]\n",
    "filtered_movies = movies.query(f'Year >= {y_min} and Year <= {y_max} and Votes >= {v_min} and Votes <= {v_max}')\n",
    "# filtered_movies"
   ]
  },
  {
   "cell_type": "code",
   "execution_count": 15,
   "id": "66af8c7e",
   "metadata": {
    "scrolled": true
   },
   "outputs": [
    {
     "data": {
      "text/html": [
       "\n",
       "<div id=\"altair-viz-79bd5b17bbc24e1eafbd2dcac2caf362\"></div>\n",
       "<script type=\"text/javascript\">\n",
       "  var VEGA_DEBUG = (typeof VEGA_DEBUG == \"undefined\") ? {} : VEGA_DEBUG;\n",
       "  (function(spec, embedOpt){\n",
       "    let outputDiv = document.currentScript.previousElementSibling;\n",
       "    if (outputDiv.id !== \"altair-viz-79bd5b17bbc24e1eafbd2dcac2caf362\") {\n",
       "      outputDiv = document.getElementById(\"altair-viz-79bd5b17bbc24e1eafbd2dcac2caf362\");\n",
       "    }\n",
       "    const paths = {\n",
       "      \"vega\": \"https://cdn.jsdelivr.net/npm//vega@5?noext\",\n",
       "      \"vega-lib\": \"https://cdn.jsdelivr.net/npm//vega-lib?noext\",\n",
       "      \"vega-lite\": \"https://cdn.jsdelivr.net/npm//vega-lite@4.17.0?noext\",\n",
       "      \"vega-embed\": \"https://cdn.jsdelivr.net/npm//vega-embed@6?noext\",\n",
       "    };\n",
       "\n",
       "    function maybeLoadScript(lib, version) {\n",
       "      var key = `${lib.replace(\"-\", \"\")}_version`;\n",
       "      return (VEGA_DEBUG[key] == version) ?\n",
       "        Promise.resolve(paths[lib]) :\n",
       "        new Promise(function(resolve, reject) {\n",
       "          var s = document.createElement('script');\n",
       "          document.getElementsByTagName(\"head\")[0].appendChild(s);\n",
       "          s.async = true;\n",
       "          s.onload = () => {\n",
       "            VEGA_DEBUG[key] = version;\n",
       "            return resolve(paths[lib]);\n",
       "          };\n",
       "          s.onerror = () => reject(`Error loading script: ${paths[lib]}`);\n",
       "          s.src = paths[lib];\n",
       "        });\n",
       "    }\n",
       "\n",
       "    function showError(err) {\n",
       "      outputDiv.innerHTML = `<div class=\"error\" style=\"color:red;\">${err}</div>`;\n",
       "      throw err;\n",
       "    }\n",
       "\n",
       "    function displayChart(vegaEmbed) {\n",
       "      vegaEmbed(outputDiv, spec, embedOpt)\n",
       "        .catch(err => showError(`Javascript Error: ${err.message}<br>This usually means there's a typo in your chart specification. See the javascript console for the full traceback.`));\n",
       "    }\n",
       "\n",
       "    if(typeof define === \"function\" && define.amd) {\n",
       "      requirejs.config({paths});\n",
       "      require([\"vega-embed\"], displayChart, err => showError(`Error loading script: ${err.message}`));\n",
       "    } else {\n",
       "      maybeLoadScript(\"vega\", \"5\")\n",
       "        .then(() => maybeLoadScript(\"vega-lite\", \"4.17.0\"))\n",
       "        .then(() => maybeLoadScript(\"vega-embed\", \"6\"))\n",
       "        .catch(showError)\n",
       "        .then(() => displayChart(vegaEmbed));\n",
       "    }\n",
       "  })({\"config\": {\"view\": {\"continuousWidth\": 400, \"continuousHeight\": 300}, \"axis\": {\"labelFontSize\": 14, \"titleFontSize\": 20}}, \"vconcat\": [{\"data\": {\"name\": \"data-e0e65865c4e5302063f5fb9271d6e1d8\"}, \"mark\": {\"type\": \"point\", \"filled\": true}, \"encoding\": {\"color\": {\"condition\": {\"field\": \"Rank\", \"scale\": {\"scheme\": \"lighttealblue\"}, \"type\": \"quantitative\", \"test\": \"((((datum.Year >= 1931) && (datum.Year <= 2015)) && (datum.Votes >= 10000)) && (datum.Votes <= 2684000))\"}, \"value\": \"lightgrey\"}, \"opacity\": {\"condition\": {\"value\": 0.9, \"selection\": \"selector001\"}, \"value\": 0.05}, \"size\": {\"field\": \"Rating\", \"type\": \"quantitative\"}, \"tooltip\": [{\"field\": \"Movie Name\", \"type\": \"nominal\"}, {\"field\": \"Rank\", \"type\": \"quantitative\"}, {\"field\": \"Category\", \"type\": \"nominal\"}, {\"field\": \"Rating\", \"type\": \"quantitative\"}, {\"field\": \"Votes\", \"type\": \"quantitative\"}, {\"field\": \"Year\", \"type\": \"quantitative\"}], \"x\": {\"field\": \"Category\", \"type\": \"nominal\"}, \"y\": {\"field\": \"Votes\", \"type\": \"quantitative\"}}, \"height\": 390, \"selection\": {\"selector001\": {\"type\": \"interval\", \"resolve\": \"global\"}}, \"width\": 600}, {\"data\": {\"name\": \"data-e0e65865c4e5302063f5fb9271d6e1d8\"}, \"mark\": \"arc\", \"encoding\": {\"color\": {\"field\": \"Category\", \"scale\": {\"scheme\": \"category20\"}, \"type\": \"nominal\"}, \"opacity\": {\"condition\": {\"value\": 0.9, \"selection\": \"selector001\"}, \"value\": 0.05}, \"theta\": {\"aggregate\": \"sum\", \"field\": \"Votes\", \"type\": \"quantitative\"}, \"tooltip\": [{\"field\": \"Movie Name\", \"type\": \"nominal\"}, {\"field\": \"Rank\", \"type\": \"quantitative\"}, {\"field\": \"Category\", \"type\": \"nominal\"}, {\"field\": \"Rating\", \"type\": \"quantitative\"}, {\"field\": \"Votes\", \"type\": \"quantitative\"}, {\"field\": \"Year\", \"type\": \"quantitative\"}]}, \"height\": 390, \"width\": 600}], \"$schema\": \"https://vega.github.io/schema/vega-lite/v4.17.0.json\", \"datasets\": {\"data-e0e65865c4e5302063f5fb9271d6e1d8\": [{\"Rank\": 1, \"Movie Name\": \"The Godfather\", \"Category\": \"R\", \"Rating\": 9.2, \"Year\": 1972, \"Votes\": 1860471}, {\"Rank\": 2, \"Movie Name\": \"The Silence of the Lambs\", \"Category\": \"R\", \"Rating\": 8.6, \"Year\": 1991, \"Votes\": 1435344}, {\"Rank\": 3, \"Movie Name\": \"Star Wars: Episode V - The Empire Strikes Back\", \"Category\": \"PG\", \"Rating\": 8.7, \"Year\": 1980, \"Votes\": 1294805}, {\"Rank\": 4, \"Movie Name\": \"The Shawshank Redemption\", \"Category\": \"R\", \"Rating\": 9.3, \"Year\": 1994, \"Votes\": 2683302}, {\"Rank\": 5, \"Movie Name\": \"The Shining\", \"Category\": \"R\", \"Rating\": 8.4, \"Year\": 1980, \"Votes\": 1025560}, {\"Rank\": 6, \"Movie Name\": \"Casablanca\", \"Category\": \"PG\", \"Rating\": 8.5, \"Year\": 1942, \"Votes\": 574092}, {\"Rank\": 7, \"Movie Name\": \"One Flew Over the Cuckoo's Nest\", \"Category\": \"R\", \"Rating\": 8.7, \"Year\": 1975, \"Votes\": 1010102}, {\"Rank\": 8, \"Movie Name\": \"Indiana Jones and the Raiders of the Lost Ark\", \"Category\": \"PG\", \"Rating\": 8.4, \"Year\": 1981, \"Votes\": 969143}, {\"Rank\": 9, \"Movie Name\": \"The Lord of the Rings: The Return of the King\", \"Category\": \"PG-13\", \"Rating\": 9.0, \"Year\": 2003, \"Votes\": 1849082}, {\"Rank\": 10, \"Movie Name\": \"Star Wars: Episode IV - A New Hope\", \"Category\": \"PG\", \"Rating\": 8.6, \"Year\": 1977, \"Votes\": 1367430}, {\"Rank\": 11, \"Movie Name\": \"The Dark Knight\", \"Category\": \"PG-13\", \"Rating\": 9.0, \"Year\": 2008, \"Votes\": 2656768}, {\"Rank\": 12, \"Movie Name\": \"The Godfather: Part II\", \"Category\": \"R\", \"Rating\": 9.0, \"Year\": 1974, \"Votes\": 1273349}, {\"Rank\": 13, \"Movie Name\": \"Aliens\", \"Category\": \"R\", \"Rating\": 8.4, \"Year\": 1986, \"Votes\": 720623}, {\"Rank\": 14, \"Movie Name\": \"Schindler's List\", \"Category\": \"R\", \"Rating\": 9.0, \"Year\": 1993, \"Votes\": 1357621}, {\"Rank\": 15, \"Movie Name\": \"Inception\", \"Category\": \"PG-13\", \"Rating\": 8.8, \"Year\": 2010, \"Votes\": 2356293}, {\"Rank\": 16, \"Movie Name\": \"The Lord of the Rings: The Fellowship of the Ring\", \"Category\": \"PG-13\", \"Rating\": 8.8, \"Year\": 2001, \"Votes\": 1878557}, {\"Rank\": 17, \"Movie Name\": \"Alien\", \"Category\": \"R\", \"Rating\": 8.5, \"Year\": 1979, \"Votes\": 885635}, {\"Rank\": 18, \"Movie Name\": \"Some Like It Hot\", \"Category\": \"Passed\", \"Rating\": 8.2, \"Year\": 1959, \"Votes\": 269346}, {\"Rank\": 19, \"Movie Name\": \"Blade Runner\", \"Category\": \"R\", \"Rating\": 8.1, \"Year\": 1982, \"Votes\": 773425}, {\"Rank\": 20, \"Movie Name\": \"Se7en\", \"Category\": \"R\", \"Rating\": 8.6, \"Year\": 1995, \"Votes\": 1655745}, {\"Rank\": 21, \"Movie Name\": \"Apocalypse Now\", \"Category\": \"R\", \"Rating\": 8.5, \"Year\": 1979, \"Votes\": 669994}, {\"Rank\": 22, \"Movie Name\": \"12 Angry Men\", \"Category\": \"Approved\", \"Rating\": 9.0, \"Year\": 1957, \"Votes\": 792729}, {\"Rank\": 23, \"Movie Name\": \"The Lord of the Rings: The Two Towers\", \"Category\": \"PG-13\", \"Rating\": 8.8, \"Year\": 2002, \"Votes\": 1669715}, {\"Rank\": 24, \"Movie Name\": \"Terminator 2: Judgment Day\", \"Category\": \"R\", \"Rating\": 8.6, \"Year\": 1991, \"Votes\": 1101850}, {\"Rank\": 25, \"Movie Name\": \"Star Wars: Episode VI - Return of the Jedi\", \"Category\": \"PG\", \"Rating\": 8.3, \"Year\": 1983, \"Votes\": 1056750}, {\"Rank\": 26, \"Movie Name\": \"Die Hard\", \"Category\": \"R\", \"Rating\": 8.2, \"Year\": 1988, \"Votes\": 887967}, {\"Rank\": 27, \"Movie Name\": \"Gone with the Wind\", \"Category\": \"Passed\", \"Rating\": 8.2, \"Year\": 1939, \"Votes\": 317621}, {\"Rank\": 28, \"Movie Name\": \"Taxi Driver\", \"Category\": \"R\", \"Rating\": 8.2, \"Year\": 1976, \"Votes\": 836871}, {\"Rank\": 29, \"Movie Name\": \"Pulp Fiction\", \"Category\": \"R\", \"Rating\": 8.9, \"Year\": 1994, \"Votes\": 2058574}, {\"Rank\": 30, \"Movie Name\": \"The Bridge on the River Kwai\", \"Category\": \"PG\", \"Rating\": 8.2, \"Year\": 1957, \"Votes\": 222540}, {\"Rank\": 31, \"Movie Name\": \"The Lion King\", \"Category\": \"G\", \"Rating\": 8.5, \"Year\": 1994, \"Votes\": 1060900}, {\"Rank\": 32, \"Movie Name\": \"North by Northwest\", \"Category\": \"Approved\", \"Rating\": 8.3, \"Year\": 1959, \"Votes\": 330232}, {\"Rank\": 33, \"Movie Name\": \"Rear Window\", \"Category\": \"PG\", \"Rating\": 8.5, \"Year\": 1954, \"Votes\": 493926}, {\"Rank\": 34, \"Movie Name\": \"L\\u00e9on: The Professional\", \"Category\": \"R\", \"Rating\": 8.5, \"Year\": 1994, \"Votes\": 1164087}, {\"Rank\": 35, \"Movie Name\": \"Back to the Future\", \"Category\": \"PG\", \"Rating\": 8.5, \"Year\": 1985, \"Votes\": 1208582}, {\"Rank\": 36, \"Movie Name\": \"Citizen Kane\", \"Category\": \"PG\", \"Rating\": 8.3, \"Year\": 1941, \"Votes\": 444359}, {\"Rank\": 37, \"Movie Name\": \"Goodfellas\", \"Category\": \"R\", \"Rating\": 8.7, \"Year\": 1990, \"Votes\": 1164128}, {\"Rank\": 38, \"Movie Name\": \"Memento\", \"Category\": \"R\", \"Rating\": 8.4, \"Year\": 2000, \"Votes\": 1241252}, {\"Rank\": 39, \"Movie Name\": \"American Beauty\", \"Category\": \"R\", \"Rating\": 8.4, \"Year\": 1999, \"Votes\": 1157536}, {\"Rank\": 40, \"Movie Name\": \"As Good as It Gets\", \"Category\": \"PG-13\", \"Rating\": 7.7, \"Year\": 1997, \"Votes\": 301756}, {\"Rank\": 41, \"Movie Name\": \"Forrest Gump\", \"Category\": \"PG-13\", \"Rating\": 8.8, \"Year\": 1994, \"Votes\": 2082477}, {\"Rank\": 42, \"Movie Name\": \"Singin' in the Rain\", \"Category\": \"G\", \"Rating\": 8.3, \"Year\": 1952, \"Votes\": 244548}, {\"Rank\": 43, \"Movie Name\": \"Braveheart\", \"Category\": \"R\", \"Rating\": 8.4, \"Year\": 1995, \"Votes\": 1040416}, {\"Rank\": 44, \"Movie Name\": \"Saving Private Ryan\", \"Category\": \"R\", \"Rating\": 8.6, \"Year\": 1998, \"Votes\": 1394262}, {\"Rank\": 45, \"Movie Name\": \"Rain Man\", \"Category\": \"R\", \"Rating\": 8.0, \"Year\": 1988, \"Votes\": 517528}, {\"Rank\": 46, \"Movie Name\": \"The King's Speech\", \"Category\": \"R\", \"Rating\": 8.0, \"Year\": 2010, \"Votes\": 683379}, {\"Rank\": 47, \"Movie Name\": \"2001: A Space Odyssey\", \"Category\": \"G\", \"Rating\": 8.3, \"Year\": 1968, \"Votes\": 671980}, {\"Rank\": 48, \"Movie Name\": \"Kill Bill: Vol. 1\", \"Category\": \"R\", \"Rating\": 8.2, \"Year\": 2003, \"Votes\": 1119120}, {\"Rank\": 49, \"Movie Name\": \"Avanti!\", \"Category\": \"R\", \"Rating\": 7.2, \"Year\": 1972, \"Votes\": 10748}, {\"Rank\": 50, \"Movie Name\": \"The Good, the Bad and the Ugly\", \"Category\": \"Approved\", \"Rating\": 8.8, \"Year\": 1966, \"Votes\": 763678}, {\"Rank\": 51, \"Movie Name\": \"Am\\u00e9lie\", \"Category\": \"R\", \"Rating\": 8.3, \"Year\": 2001, \"Votes\": 759411}, {\"Rank\": 52, \"Movie Name\": \"Modern Times\", \"Category\": \"G\", \"Rating\": 8.5, \"Year\": 1936, \"Votes\": 244162}, {\"Rank\": 53, \"Movie Name\": \"Lost in Translation\", \"Category\": \"R\", \"Rating\": 7.7, \"Year\": 2003, \"Votes\": 458613}, {\"Rank\": 54, \"Movie Name\": \"Full Metal Jacket\", \"Category\": \"R\", \"Rating\": 8.3, \"Year\": 1987, \"Votes\": 745546}, {\"Rank\": 55, \"Movie Name\": \"Requiem for a Dream\", \"Category\": \"R\", \"Rating\": 8.3, \"Year\": 2000, \"Votes\": 845362}, {\"Rank\": 56, \"Movie Name\": \"Fight Club\", \"Category\": \"R\", \"Rating\": 8.8, \"Year\": 1999, \"Votes\": 2128902}, {\"Rank\": 57, \"Movie Name\": \"No Country for Old Men\", \"Category\": \"R\", \"Rating\": 8.2, \"Year\": 2007, \"Votes\": 977336}, {\"Rank\": 58, \"Movie Name\": \"Django Unchained\", \"Category\": \"R\", \"Rating\": 8.4, \"Year\": 2012, \"Votes\": 1557890}, {\"Rank\": 59, \"Movie Name\": \"Children of Men\", \"Category\": \"R\", \"Rating\": 7.9, \"Year\": 2006, \"Votes\": 503642}, {\"Rank\": 60, \"Movie Name\": \"Ratatouille\", \"Category\": \"G\", \"Rating\": 8.1, \"Year\": 2007, \"Votes\": 741322}, {\"Rank\": 61, \"Movie Name\": \"The Lives of Others\", \"Category\": \"R\", \"Rating\": 8.4, \"Year\": 2006, \"Votes\": 391480}, {\"Rank\": 62, \"Movie Name\": \"The Prestige\", \"Category\": \"PG-13\", \"Rating\": 8.5, \"Year\": 2006, \"Votes\": 1336235}, {\"Rank\": 63, \"Movie Name\": \"V for Vendetta\", \"Category\": \"R\", \"Rating\": 8.2, \"Year\": 2005, \"Votes\": 1125038}, {\"Rank\": 64, \"Movie Name\": \"Chinatown\", \"Category\": \"R\", \"Rating\": 8.2, \"Year\": 1974, \"Votes\": 329110}, {\"Rank\": 65, \"Movie Name\": \"City of God\", \"Category\": \"R\", \"Rating\": 8.6, \"Year\": 2002, \"Votes\": 758914}, {\"Rank\": 66, \"Movie Name\": \"To Have and Have Not\", \"Category\": \"Passed\", \"Rating\": 7.8, \"Year\": 1944, \"Votes\": 35528}, {\"Rank\": 67, \"Movie Name\": \"Fargo\", \"Category\": \"R\", \"Rating\": 8.1, \"Year\": 1996, \"Votes\": 681256}, {\"Rank\": 68, \"Movie Name\": \"Life of Pi\", \"Category\": \"PG\", \"Rating\": 7.9, \"Year\": 2012, \"Votes\": 634357}, {\"Rank\": 69, \"Movie Name\": \"Slumdog Millionaire\", \"Category\": \"R\", \"Rating\": 8.0, \"Year\": 2008, \"Votes\": 848344}, {\"Rank\": 70, \"Movie Name\": \"Vertigo\", \"Category\": \"PG\", \"Rating\": 8.3, \"Year\": 1958, \"Votes\": 404626}, {\"Rank\": 71, \"Movie Name\": \"Trainspotting\", \"Category\": \"R\", \"Rating\": 8.1, \"Year\": 1996, \"Votes\": 690138}, {\"Rank\": 72, \"Movie Name\": \"Interstellar\", \"Category\": \"PG-13\", \"Rating\": 8.6, \"Year\": 2014, \"Votes\": 1835790}, {\"Rank\": 73, \"Movie Name\": \"The Thing\", \"Category\": \"R\", \"Rating\": 8.2, \"Year\": 1982, \"Votes\": 428474}, {\"Rank\": 74, \"Movie Name\": \"The Third Man\", \"Category\": \"Approved\", \"Rating\": 8.1, \"Year\": 1949, \"Votes\": 173206}, {\"Rank\": 75, \"Movie Name\": \"12 Monkeys\", \"Category\": \"R\", \"Rating\": 8.0, \"Year\": 1995, \"Votes\": 621205}, {\"Rank\": 76, \"Movie Name\": \"Life Is Beautiful\", \"Category\": \"PG-13\", \"Rating\": 8.6, \"Year\": 1997, \"Votes\": 697226}, {\"Rank\": 77, \"Movie Name\": \"The Pianist\", \"Category\": \"R\", \"Rating\": 8.5, \"Year\": 2002, \"Votes\": 834842}, {\"Rank\": 78, \"Movie Name\": \"Magnolia\", \"Category\": \"R\", \"Rating\": 8.0, \"Year\": 1999, \"Votes\": 315037}, {\"Rank\": 79, \"Movie Name\": \"The Dark Knight Rises\", \"Category\": \"PG-13\", \"Rating\": 8.4, \"Year\": 2012, \"Votes\": 1708002}, {\"Rank\": 80, \"Movie Name\": \"Star Wars: Episode VII - The Force Awakens\", \"Category\": \"PG-13\", \"Rating\": 7.8, \"Year\": 2015, \"Votes\": 933771}, {\"Rank\": 81, \"Movie Name\": \"The Hobbit: The Desolation of Smaug\", \"Category\": \"PG-13\", \"Rating\": 7.8, \"Year\": 2013, \"Votes\": 667864}, {\"Rank\": 82, \"Movie Name\": \"Mad Max: Fury Road\", \"Category\": \"R\", \"Rating\": 8.1, \"Year\": 2015, \"Votes\": 1006158}, {\"Rank\": 83, \"Movie Name\": \"12 Years a Slave\", \"Category\": \"R\", \"Rating\": 8.1, \"Year\": 2013, \"Votes\": 703824}, {\"Rank\": 84, \"Movie Name\": \"Indiana Jones and the Last Crusade\", \"Category\": \"PG-13\", \"Rating\": 8.2, \"Year\": 1989, \"Votes\": 758057}, {\"Rank\": 85, \"Movie Name\": \"O Brother, Where Art Thou?\", \"Category\": \"PG-13\", \"Rating\": 7.7, \"Year\": 2000, \"Votes\": 315173}, {\"Rank\": 86, \"Movie Name\": \"Inglourious Basterds\", \"Category\": \"R\", \"Rating\": 8.3, \"Year\": 2009, \"Votes\": 1453288}, {\"Rank\": 87, \"Movie Name\": \"The Departed\", \"Category\": \"R\", \"Rating\": 8.5, \"Year\": 2006, \"Votes\": 1328252}, {\"Rank\": 88, \"Movie Name\": \"A Beautiful Mind\", \"Category\": \"PG-13\", \"Rating\": 8.2, \"Year\": 2001, \"Votes\": 935549}, {\"Rank\": 89, \"Movie Name\": \"District 9\", \"Category\": \"R\", \"Rating\": 7.9, \"Year\": 2009, \"Votes\": 685403}, {\"Rank\": 90, \"Movie Name\": \"The Piano\", \"Category\": \"R\", \"Rating\": 7.5, \"Year\": 1993, \"Votes\": 89819}, {\"Rank\": 91, \"Movie Name\": \"Mystic River\", \"Category\": \"R\", \"Rating\": 7.9, \"Year\": 2003, \"Votes\": 459918}, {\"Rank\": 92, \"Movie Name\": \"The Insider\", \"Category\": \"R\", \"Rating\": 7.8, \"Year\": 1999, \"Votes\": 172759}, {\"Rank\": 93, \"Movie Name\": \"L.A. Confidential\", \"Category\": \"R\", \"Rating\": 8.2, \"Year\": 1997, \"Votes\": 585555}, {\"Rank\": 94, \"Movie Name\": \"Heat\", \"Category\": \"R\", \"Rating\": 8.3, \"Year\": 1995, \"Votes\": 658033}, {\"Rank\": 95, \"Movie Name\": \"The Usual Suspects\", \"Category\": \"R\", \"Rating\": 8.5, \"Year\": 1995, \"Votes\": 1087832}, {\"Rank\": 96, \"Movie Name\": \"Cool Hand Luke\", \"Category\": \"GP\", \"Rating\": 8.1, \"Year\": 1967, \"Votes\": 178888}, {\"Rank\": 97, \"Movie Name\": \"Eternal Sunshine of the Spotless Mind\", \"Category\": \"R\", \"Rating\": 8.3, \"Year\": 2004, \"Votes\": 1011004}, {\"Rank\": 98, \"Movie Name\": \"City Lights\", \"Category\": \"G\", \"Rating\": 8.5, \"Year\": 1931, \"Votes\": 186059}, {\"Rank\": 99, \"Movie Name\": \"The Matrix\", \"Category\": \"R\", \"Rating\": 8.7, \"Year\": 1999, \"Votes\": 1916083}]}}, {\"mode\": \"vega-lite\"});\n",
       "</script>"
      ],
      "text/plain": [
       "alt.VConcatChart(...)"
      ]
     },
     "execution_count": 15,
     "metadata": {},
     "output_type": "execute_result"
    }
   ],
   "source": [
    "# The information we want to display on tooltips\n",
    "tooltip_cols = ['Movie Name', 'Rank', 'Category', 'Rating', 'Votes', 'Year']\n",
    "\n",
    "# The selection mechanisms on the graphs\n",
    "brush = alt.selection(type='interval', resolve='global')\n",
    "# single = alt.selection_single()\n",
    "\n",
    "# The graph opacity condition for local selection (brush and click)\n",
    "# opacity = alt.condition(brush | single, alt.value(0.9), alt.value(0.1))\n",
    "opacity = alt.condition(brush, alt.value(0.9), alt.value(0.05))\n",
    "\n",
    "# The chart for scatter plot of the ratings of the movies and their gross_total\n",
    "points = alt.Chart(movies).mark_point(filled=True).encode(\n",
    "    alt.X('Category'),\n",
    "    alt.Y('Votes'),\n",
    "    tooltip=tooltip_cols,\n",
    "    color=alt.condition(\n",
    "        (alt.datum.Year >= y_min) & (alt.datum.Year <= y_max) &\n",
    "        (alt.datum.Votes >= v_min) & (alt.datum.Votes <= v_max),\n",
    "        alt.Color('Rank:Q',\n",
    "             scale=alt.Scale(scheme='lighttealblue')\n",
    "         ),\n",
    "        alt.value('lightgrey')\n",
    "    ),\n",
    "    size='Rating:Q',\n",
    "    opacity=opacity\n",
    ").add_selection(\n",
    "    brush,\n",
    "#     single\n",
    ").properties(\n",
    "    width=chart_width,\n",
    "    height=chart_height.value\n",
    ")\n",
    "\n",
    "filter_present = (selected_years.value[1] - selected_years.value[0] > 0) and \\\n",
    "                (selected_votes.value[1] - selected_votes.value[0] > 0) \n",
    "if filter_present:\n",
    "    # Filtered chart for movies with stacked vote counts\n",
    "    pie = alt.Chart(filtered_movies).mark_arc().encode(\n",
    "        color=alt.Color('Category', scale=alt.Scale(scheme=\"category20\")),\n",
    "        theta='sum(Votes)',\n",
    "        tooltip=tooltip_cols,\n",
    "        opacity=opacity,\n",
    "#     ).add_selection(\n",
    "#         brush,\n",
    "#     #     single\n",
    "    ).properties(\n",
    "        width=chart_width,\n",
    "        height=chart_height.value\n",
    "    )\n",
    "    \n",
    "\n",
    "# Vertically stack the two charts\n",
    "final = (points & pie) if filter_present else points\n",
    "final.configure_axis(\n",
    "    labelFontSize=14,\n",
    "    titleFontSize=20,\n",
    ")"
   ]
  },
  {
   "cell_type": "code",
   "execution_count": 16,
   "id": "46bcc333",
   "metadata": {},
   "outputs": [
    {
     "data": {
      "text/html": [
       "<div>\n",
       "<style scoped>\n",
       "    .dataframe tbody tr th:only-of-type {\n",
       "        vertical-align: middle;\n",
       "    }\n",
       "\n",
       "    .dataframe tbody tr th {\n",
       "        vertical-align: top;\n",
       "    }\n",
       "\n",
       "    .dataframe thead th {\n",
       "        text-align: right;\n",
       "    }\n",
       "</style>\n",
       "<table border=\"1\" class=\"dataframe\">\n",
       "  <thead>\n",
       "    <tr style=\"text-align: right;\">\n",
       "      <th></th>\n",
       "      <th>Movie Name</th>\n",
       "      <th>Category</th>\n",
       "      <th>Votes</th>\n",
       "      <th>Year</th>\n",
       "    </tr>\n",
       "    <tr>\n",
       "      <th>Rank</th>\n",
       "      <th></th>\n",
       "      <th></th>\n",
       "      <th></th>\n",
       "      <th></th>\n",
       "    </tr>\n",
       "  </thead>\n",
       "  <tbody>\n",
       "    <tr>\n",
       "      <th>1</th>\n",
       "      <td>The Godfather</td>\n",
       "      <td>R</td>\n",
       "      <td>1860471</td>\n",
       "      <td>1972</td>\n",
       "    </tr>\n",
       "    <tr>\n",
       "      <th>2</th>\n",
       "      <td>The Silence of the Lambs</td>\n",
       "      <td>R</td>\n",
       "      <td>1435344</td>\n",
       "      <td>1991</td>\n",
       "    </tr>\n",
       "    <tr>\n",
       "      <th>3</th>\n",
       "      <td>Star Wars: Episode V - The Empire Strikes Back</td>\n",
       "      <td>PG</td>\n",
       "      <td>1294805</td>\n",
       "      <td>1980</td>\n",
       "    </tr>\n",
       "    <tr>\n",
       "      <th>4</th>\n",
       "      <td>The Shawshank Redemption</td>\n",
       "      <td>R</td>\n",
       "      <td>2683302</td>\n",
       "      <td>1994</td>\n",
       "    </tr>\n",
       "    <tr>\n",
       "      <th>5</th>\n",
       "      <td>The Shining</td>\n",
       "      <td>R</td>\n",
       "      <td>1025560</td>\n",
       "      <td>1980</td>\n",
       "    </tr>\n",
       "    <tr>\n",
       "      <th>...</th>\n",
       "      <td>...</td>\n",
       "      <td>...</td>\n",
       "      <td>...</td>\n",
       "      <td>...</td>\n",
       "    </tr>\n",
       "    <tr>\n",
       "      <th>95</th>\n",
       "      <td>The Usual Suspects</td>\n",
       "      <td>R</td>\n",
       "      <td>1087832</td>\n",
       "      <td>1995</td>\n",
       "    </tr>\n",
       "    <tr>\n",
       "      <th>96</th>\n",
       "      <td>Cool Hand Luke</td>\n",
       "      <td>GP</td>\n",
       "      <td>178888</td>\n",
       "      <td>1967</td>\n",
       "    </tr>\n",
       "    <tr>\n",
       "      <th>97</th>\n",
       "      <td>Eternal Sunshine of the Spotless Mind</td>\n",
       "      <td>R</td>\n",
       "      <td>1011004</td>\n",
       "      <td>2004</td>\n",
       "    </tr>\n",
       "    <tr>\n",
       "      <th>98</th>\n",
       "      <td>City Lights</td>\n",
       "      <td>G</td>\n",
       "      <td>186059</td>\n",
       "      <td>1931</td>\n",
       "    </tr>\n",
       "    <tr>\n",
       "      <th>99</th>\n",
       "      <td>The Matrix</td>\n",
       "      <td>R</td>\n",
       "      <td>1916083</td>\n",
       "      <td>1999</td>\n",
       "    </tr>\n",
       "  </tbody>\n",
       "</table>\n",
       "<p>99 rows × 4 columns</p>\n",
       "</div>"
      ],
      "text/plain": [
       "                                          Movie Name Category    Votes  Year\n",
       "Rank                                                                        \n",
       "1                                      The Godfather        R  1860471  1972\n",
       "2                           The Silence of the Lambs        R  1435344  1991\n",
       "3     Star Wars: Episode V - The Empire Strikes Back       PG  1294805  1980\n",
       "4                           The Shawshank Redemption        R  2683302  1994\n",
       "5                                        The Shining        R  1025560  1980\n",
       "...                                              ...      ...      ...   ...\n",
       "95                                The Usual Suspects        R  1087832  1995\n",
       "96                                    Cool Hand Luke       GP   178888  1967\n",
       "97             Eternal Sunshine of the Spotless Mind        R  1011004  2004\n",
       "98                                       City Lights        G   186059  1931\n",
       "99                                        The Matrix        R  1916083  1999\n",
       "\n",
       "[99 rows x 4 columns]"
      ]
     },
     "execution_count": 16,
     "metadata": {},
     "output_type": "execute_result"
    }
   ],
   "source": [
    "# Display the filtered table of movies\n",
    "if filter_present:\n",
    "    display_movies = filtered_movies.set_index('Rank')\n",
    "display_movies[['Movie Name', 'Category', 'Votes','Year']] if filter_present else None"
   ]
  },
  {
   "cell_type": "markdown",
   "id": "319530c2",
   "metadata": {},
   "source": [
    "Made with ❤️ by Group 18.\n",
    "\n",
    "February 2023"
   ]
  },
  {
   "cell_type": "code",
   "execution_count": null,
   "id": "cc92f42e",
   "metadata": {},
   "outputs": [],
   "source": []
  }
 ],
 "metadata": {
  "kernelspec": {
   "display_name": "Python 3 (ipykernel)",
   "language": "python",
   "name": "python3"
  },
  "language_info": {
   "codemirror_mode": {
    "name": "ipython",
    "version": 3
   },
   "file_extension": ".py",
   "mimetype": "text/x-python",
   "name": "python",
   "nbconvert_exporter": "python",
   "pygments_lexer": "ipython3",
   "version": "3.10.9"
  }
 },
 "nbformat": 4,
 "nbformat_minor": 5
}
