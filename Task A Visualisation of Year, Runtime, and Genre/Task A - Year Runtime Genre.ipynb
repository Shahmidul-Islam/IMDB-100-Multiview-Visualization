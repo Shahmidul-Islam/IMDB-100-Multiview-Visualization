{
 "cells": [
  {
   "cell_type": "markdown",
   "id": "a7754cdc",
   "metadata": {},
   "source": [
    "# Task A: Visualisation of Year, Runtime, and Genre\n",
    "\n",
    "The top 99 highest rated IMDB movies are visualised in this demonstration. We display how the run time of the movies vary over the years, how may movies from this list were released in the year, and also allow the user to filter the movies based on the genres.\n",
    "\n",
    "## Instructions\n",
    "\n",
    "1. All the genres are enabled by default. You can remove those you are not interested in and the plots will reflect your choice. Use the sidebar on the left for this.\n",
    "2. There is also a slider that changes the height of the charts.\n",
    "3. Hovering over the points will show related information on tooltips.\n",
    "4. The scatter plot allows rectangular selection and the bar chart allows interval selection. The brushes selectively highlight on both plots. The selection area can be moved around by dragging. The size can be changed by scrolling on the selected area.\n",
    "5. Click outside the selection area to deselect and reset the plot."
   ]
  },
  {
   "cell_type": "code",
   "execution_count": 30,
   "id": "08068c51",
   "metadata": {},
   "outputs": [],
   "source": [
    "%%capture\n",
    "# Code comments are not visible to the end-user\n",
    "# !pip install altair\n",
    "# !pip install mercury\n",
    "# !pip install pandas"
   ]
  },
  {
   "cell_type": "code",
   "execution_count": 31,
   "id": "6445dbc2",
   "metadata": {},
   "outputs": [],
   "source": [
    "# Import the necessary packages\n",
    "import altair as alt  # For interactive and custom visuals\n",
    "import mercury as mr  # For additional input and filtering capabilities\n",
    "import pandas as pd   # For working with the dataset"
   ]
  },
  {
   "cell_type": "code",
   "execution_count": 32,
   "id": "d2db0f83",
   "metadata": {},
   "outputs": [],
   "source": [
    "# We load in the data set from the CSV file\n",
    "movies = pd.read_csv('data/imdb100/movies.csv')\n",
    "# movies"
   ]
  },
  {
   "cell_type": "code",
   "execution_count": 33,
   "id": "bb07f743",
   "metadata": {},
   "outputs": [],
   "source": [
    "def clean_year(year):\n",
    "    \"\"\"\n",
    "    Removes the parentheses and returns only the year integer value\n",
    "    \"\"\"\n",
    "    return year[1:-1]"
   ]
  },
  {
   "cell_type": "code",
   "execution_count": 34,
   "id": "3fe4740e",
   "metadata": {},
   "outputs": [],
   "source": [
    "# Assign the cleaned year value to a new column\n",
    "movies['Year'] = movies['year_of_release'].apply(clean_year)\n",
    "# movies"
   ]
  },
  {
   "cell_type": "code",
   "execution_count": 35,
   "id": "ea43a4d2",
   "metadata": {},
   "outputs": [],
   "source": [
    "def clean_runtime(runtime):\n",
    "    \"\"\"\n",
    "    Removes the trailing\n",
    "    \"\"\"\n",
    "    return int(runtime[:-4])"
   ]
  },
  {
   "cell_type": "code",
   "execution_count": 36,
   "id": "7de71401",
   "metadata": {},
   "outputs": [],
   "source": [
    "# Assign the cleaned run time value to a new column\n",
    "movies['Runtime in minutes'] = movies['run_time'].apply(clean_runtime)\n",
    "# movies"
   ]
  },
  {
   "cell_type": "code",
   "execution_count": 37,
   "id": "8d315bc5",
   "metadata": {},
   "outputs": [],
   "source": [
    "# Remove the extra columns\n",
    "movies.drop(columns=[\n",
    "    'category', 'votes', 'gross_total', 'year_of_release', 'run_time',\n",
    "], inplace=True)\n",
    "\n",
    "# Rename the rest of the columns to cleaner names\n",
    "movies.rename(columns={\n",
    "    'index': 'Rank', 'movie_name': 'Movie Name', 'genre': 'Genre', 'imdb_rating': 'Rating'\n",
    "}, inplace=True)\n",
    "\n",
    "# Assign types for easier type inference\n",
    "movies = movies.astype({\n",
    "    'Rank': 'int',\n",
    "    'Movie Name': 'string',\n",
    "    'Genre': 'string',\n",
    "    'Year': 'int',\n",
    "    'Runtime in minutes': 'int',\n",
    "    'Rating': 'float'\n",
    "})\n",
    "# movies"
   ]
  },
  {
   "cell_type": "code",
   "execution_count": 38,
   "id": "c10593ad",
   "metadata": {},
   "outputs": [],
   "source": [
    "# Extract all individual genres present in the Genre column values\n",
    "genre_values = list(movies['Genre'])\n",
    "\n",
    "genres = set()\n",
    "for g in genre_values:\n",
    "    for item in g.split(', '):\n",
    "        genres.add(item)\n",
    "# genres"
   ]
  },
  {
   "cell_type": "code",
   "execution_count": 39,
   "id": "de24767f",
   "metadata": {},
   "outputs": [],
   "source": [
    "def apply_genre(text, genre):\n",
    "    return genre in text\n",
    "\n",
    "# Create one-hot encoding for genres\n",
    "for genre in genres:\n",
    "    movies[genre] = movies['Genre'].apply(apply_genre, genre=genre)\n",
    "# movies"
   ]
  },
  {
   "cell_type": "code",
   "execution_count": 40,
   "id": "513cabb7",
   "metadata": {},
   "outputs": [
    {
     "data": {
      "application/mercury+json": "{\n    \"widget\": \"App\",\n    \"title\": \"\",\n    \"description\": \"A visualisation with interactive plots showing the relationship between movie year, run time, and genres.\",\n    \"show_code\": false,\n    \"show_prompt\": false,\n    \"share\": \"public\",\n    \"output\": \"app\",\n    \"schedule\": \"\",\n    \"notify\": \"{}\",\n    \"continuous_update\": true,\n    \"static_notebook\": false,\n    \"show_sidebar\": true,\n    \"full_screen\": true,\n    \"allow_download\": false,\n    \"model_id\": \"mercury-app\",\n    \"code_uid\": \"App.0.40.25.1-rand7d13a580\"\n}",
      "text/html": [
       "<h3>Mercury Application</h3><small>This output won't appear in the web app.</small>"
      ],
      "text/plain": [
       "mercury.App"
      ]
     },
     "metadata": {},
     "output_type": "display_data"
    }
   ],
   "source": [
    "app = mr.App(\n",
    "    description=\"A visualisation with interactive plots showing the relationship between movie year, run time, and genres.\",\n",
    "    show_code=False,\n",
    "    show_prompt=False,\n",
    "    continuous_update=True,\n",
    "    static_notebook=False,\n",
    "    show_sidebar=True,\n",
    "    full_screen=True,\n",
    "    allow_download=False,\n",
    ")"
   ]
  },
  {
   "cell_type": "code",
   "execution_count": 41,
   "id": "f1df19f8",
   "metadata": {},
   "outputs": [
    {
     "data": {
      "application/mercury+json": "{\n    \"widget\": \"Slider\",\n    \"value\": 300,\n    \"min\": 300,\n    \"max\": 500,\n    \"step\": 20,\n    \"label\": \"Chart height\",\n    \"model_id\": \"205fd2442e954e708ed39000731947e0\",\n    \"code_uid\": \"Slider.0.40.16.2-randf6fc8089\"\n}",
      "application/vnd.jupyter.widget-view+json": {
       "model_id": "205fd2442e954e708ed39000731947e0",
       "version_major": 2,
       "version_minor": 0
      },
      "text/plain": [
       "mercury.Slider"
      ]
     },
     "metadata": {},
     "output_type": "display_data"
    }
   ],
   "source": [
    "# Chart configuration parameters\n",
    "chart_height = mr.Slider(value=300, min=300, max=500, label=\"Chart height\", step=20)\n",
    "chart_width = 750"
   ]
  },
  {
   "cell_type": "code",
   "execution_count": 42,
   "id": "8e6f5826",
   "metadata": {},
   "outputs": [
    {
     "data": {
      "application/mercury+json": "{\n    \"widget\": \"MultiSelect\",\n    \"value\": [\n        \"Western\",\n        \"Drama\",\n        \"Horror\",\n        \"History\",\n        \"Comedy\",\n        \"Thriller\",\n        \"Sci-Fi\",\n        \"Biography\",\n        \"Action\",\n        \"Musical\",\n        \"Romance\",\n        \"Animation\",\n        \"Adventure\",\n        \"Music\",\n        \"Fantasy\",\n        \"Mystery\",\n        \"Crime\",\n        \"Film-Noir\",\n        \"War\"\n    ],\n    \"choices\": [\n        \"Western\",\n        \"Drama\",\n        \"Horror\",\n        \"History\",\n        \"Comedy\",\n        \"Thriller\",\n        \"Sci-Fi\",\n        \"Biography\",\n        \"Action\",\n        \"Musical\",\n        \"Romance\",\n        \"Animation\",\n        \"Adventure\",\n        \"Music\",\n        \"Fantasy\",\n        \"Mystery\",\n        \"Crime\",\n        \"Film-Noir\",\n        \"War\"\n    ],\n    \"label\": \"Select genre(s)\",\n    \"model_id\": \"854778e0a4234f538d91c301f6cc82e3\",\n    \"code_uid\": \"MultiSelect.0.40.14.2-randd89e6df2\"\n}",
      "application/vnd.jupyter.widget-view+json": {
       "model_id": "854778e0a4234f538d91c301f6cc82e3",
       "version_major": 2,
       "version_minor": 0
      },
      "text/plain": [
       "mercury.MultiSelect"
      ]
     },
     "metadata": {},
     "output_type": "display_data"
    }
   ],
   "source": [
    "# Genre filtering multi-selection tool\n",
    "selected_genres = mr.MultiSelect(label=\"Select genre(s)\", value=list(genres), choices=list(genres))"
   ]
  },
  {
   "cell_type": "code",
   "execution_count": 43,
   "id": "ab8fc7a4",
   "metadata": {},
   "outputs": [],
   "source": [
    "# selected_genres.value"
   ]
  },
  {
   "cell_type": "code",
   "execution_count": 44,
   "id": "5013b662",
   "metadata": {},
   "outputs": [],
   "source": [
    "# Filter based on the genres\n",
    "indices = movies['Rank'] > 100\n",
    "for g in selected_genres.value:\n",
    "    indices |= movies[g]\n",
    "movies['Highlight'] = False\n",
    "movies.loc[indices, 'Highlight'] = True\n",
    "# movies"
   ]
  },
  {
   "cell_type": "code",
   "execution_count": 45,
   "id": "9a8b0953",
   "metadata": {},
   "outputs": [],
   "source": [
    "# We retain a filtered version based on the selected genres.\n",
    "filtered_movies = movies[movies['Highlight']]"
   ]
  },
  {
   "cell_type": "code",
   "execution_count": 46,
   "id": "66af8c7e",
   "metadata": {},
   "outputs": [
    {
     "data": {
      "text/html": [
       "\n",
       "<div id=\"altair-viz-17480910186947fe84c49bc709238ad5\"></div>\n",
       "<script type=\"text/javascript\">\n",
       "  var VEGA_DEBUG = (typeof VEGA_DEBUG == \"undefined\") ? {} : VEGA_DEBUG;\n",
       "  (function(spec, embedOpt){\n",
       "    let outputDiv = document.currentScript.previousElementSibling;\n",
       "    if (outputDiv.id !== \"altair-viz-17480910186947fe84c49bc709238ad5\") {\n",
       "      outputDiv = document.getElementById(\"altair-viz-17480910186947fe84c49bc709238ad5\");\n",
       "    }\n",
       "    const paths = {\n",
       "      \"vega\": \"https://cdn.jsdelivr.net/npm//vega@5?noext\",\n",
       "      \"vega-lib\": \"https://cdn.jsdelivr.net/npm//vega-lib?noext\",\n",
       "      \"vega-lite\": \"https://cdn.jsdelivr.net/npm//vega-lite@4.17.0?noext\",\n",
       "      \"vega-embed\": \"https://cdn.jsdelivr.net/npm//vega-embed@6?noext\",\n",
       "    };\n",
       "\n",
       "    function maybeLoadScript(lib, version) {\n",
       "      var key = `${lib.replace(\"-\", \"\")}_version`;\n",
       "      return (VEGA_DEBUG[key] == version) ?\n",
       "        Promise.resolve(paths[lib]) :\n",
       "        new Promise(function(resolve, reject) {\n",
       "          var s = document.createElement('script');\n",
       "          document.getElementsByTagName(\"head\")[0].appendChild(s);\n",
       "          s.async = true;\n",
       "          s.onload = () => {\n",
       "            VEGA_DEBUG[key] = version;\n",
       "            return resolve(paths[lib]);\n",
       "          };\n",
       "          s.onerror = () => reject(`Error loading script: ${paths[lib]}`);\n",
       "          s.src = paths[lib];\n",
       "        });\n",
       "    }\n",
       "\n",
       "    function showError(err) {\n",
       "      outputDiv.innerHTML = `<div class=\"error\" style=\"color:red;\">${err}</div>`;\n",
       "      throw err;\n",
       "    }\n",
       "\n",
       "    function displayChart(vegaEmbed) {\n",
       "      vegaEmbed(outputDiv, spec, embedOpt)\n",
       "        .catch(err => showError(`Javascript Error: ${err.message}<br>This usually means there's a typo in your chart specification. See the javascript console for the full traceback.`));\n",
       "    }\n",
       "\n",
       "    if(typeof define === \"function\" && define.amd) {\n",
       "      requirejs.config({paths});\n",
       "      require([\"vega-embed\"], displayChart, err => showError(`Error loading script: ${err.message}`));\n",
       "    } else {\n",
       "      maybeLoadScript(\"vega\", \"5\")\n",
       "        .then(() => maybeLoadScript(\"vega-lite\", \"4.17.0\"))\n",
       "        .then(() => maybeLoadScript(\"vega-embed\", \"6\"))\n",
       "        .catch(showError)\n",
       "        .then(() => displayChart(vegaEmbed));\n",
       "    }\n",
       "  })({\"config\": {\"view\": {\"continuousWidth\": 400, \"continuousHeight\": 300}, \"axis\": {\"labelFontSize\": 15, \"titleFontSize\": 20}}, \"vconcat\": [{\"data\": {\"name\": \"data-f77a9242ebbc02f39129b96cbce11ec7\"}, \"mark\": {\"type\": \"point\", \"filled\": true}, \"encoding\": {\"color\": {\"condition\": {\"field\": \"Rank\", \"type\": \"quantitative\", \"test\": \"datum['Highlight']\"}, \"value\": \"grey\"}, \"opacity\": {\"condition\": {\"value\": 0.9, \"selection\": \"selector002\"}, \"value\": 0.1}, \"size\": {\"field\": \"Rating\", \"type\": \"quantitative\"}, \"tooltip\": [{\"field\": \"Movie Name\", \"type\": \"nominal\"}, {\"field\": \"Rank\", \"type\": \"quantitative\"}, {\"field\": \"Genre\", \"type\": \"nominal\"}, {\"field\": \"Year\", \"type\": \"quantitative\"}, {\"field\": \"Runtime in minutes\", \"type\": \"quantitative\"}, {\"field\": \"Rating\", \"type\": \"quantitative\"}], \"x\": {\"axis\": {\"tickMinStep\": 1}, \"field\": \"Year\", \"scale\": {\"padding\": 8, \"zero\": false}, \"type\": \"ordinal\"}, \"y\": {\"field\": \"Runtime in minutes\", \"scale\": {\"padding\": 25, \"zero\": false}, \"type\": \"quantitative\"}}, \"height\": 300, \"selection\": {\"selector002\": {\"type\": \"interval\", \"resolve\": \"global\"}}, \"width\": 750}, {\"data\": {\"name\": \"data-f77a9242ebbc02f39129b96cbce11ec7\"}, \"mark\": \"bar\", \"encoding\": {\"color\": {\"field\": \"Rank\", \"scale\": {\"scheme\": \"magma\"}, \"type\": \"quantitative\"}, \"opacity\": {\"condition\": {\"value\": 0.9, \"selection\": \"selector002\"}, \"value\": 0.1}, \"tooltip\": [{\"field\": \"Movie Name\", \"type\": \"nominal\"}, {\"field\": \"Rank\", \"type\": \"quantitative\"}, {\"field\": \"Genre\", \"type\": \"nominal\"}, {\"field\": \"Year\", \"type\": \"quantitative\"}, {\"field\": \"Runtime in minutes\", \"type\": \"quantitative\"}, {\"field\": \"Rating\", \"type\": \"quantitative\"}], \"x\": {\"axis\": {\"tickMinStep\": 1}, \"field\": \"Year\", \"scale\": {\"padding\": 8}, \"type\": \"quantitative\"}, \"y\": {\"aggregate\": \"sum\", \"field\": \"Runtime in minutes\", \"type\": \"quantitative\"}}, \"height\": 300, \"selection\": {\"selector002\": {\"type\": \"interval\", \"resolve\": \"global\"}}, \"width\": 750}], \"$schema\": \"https://vega.github.io/schema/vega-lite/v4.17.0.json\", \"datasets\": {\"data-f77a9242ebbc02f39129b96cbce11ec7\": [{\"Rank\": 1, \"Movie Name\": \"The Godfather\", \"Genre\": \"Crime, Drama\", \"Rating\": 9.2, \"Year\": 1972, \"Runtime in minutes\": 175, \"Western\": false, \"Drama\": true, \"Horror\": false, \"History\": false, \"Comedy\": false, \"Thriller\": false, \"Sci-Fi\": false, \"Biography\": false, \"Action\": false, \"Musical\": false, \"Romance\": false, \"Animation\": false, \"Adventure\": false, \"Music\": false, \"Fantasy\": false, \"Mystery\": false, \"Crime\": true, \"Film-Noir\": false, \"War\": false, \"Highlight\": true}, {\"Rank\": 2, \"Movie Name\": \"The Silence of the Lambs\", \"Genre\": \"Crime, Drama, Thriller\", \"Rating\": 8.6, \"Year\": 1991, \"Runtime in minutes\": 118, \"Western\": false, \"Drama\": true, \"Horror\": false, \"History\": false, \"Comedy\": false, \"Thriller\": true, \"Sci-Fi\": false, \"Biography\": false, \"Action\": false, \"Musical\": false, \"Romance\": false, \"Animation\": false, \"Adventure\": false, \"Music\": false, \"Fantasy\": false, \"Mystery\": false, \"Crime\": true, \"Film-Noir\": false, \"War\": false, \"Highlight\": true}, {\"Rank\": 3, \"Movie Name\": \"Star Wars: Episode V - The Empire Strikes Back\", \"Genre\": \"Action, Adventure, Fantasy\", \"Rating\": 8.7, \"Year\": 1980, \"Runtime in minutes\": 124, \"Western\": false, \"Drama\": false, \"Horror\": false, \"History\": false, \"Comedy\": false, \"Thriller\": false, \"Sci-Fi\": false, \"Biography\": false, \"Action\": true, \"Musical\": false, \"Romance\": false, \"Animation\": false, \"Adventure\": true, \"Music\": false, \"Fantasy\": true, \"Mystery\": false, \"Crime\": false, \"Film-Noir\": false, \"War\": false, \"Highlight\": true}, {\"Rank\": 4, \"Movie Name\": \"The Shawshank Redemption\", \"Genre\": \"Drama\", \"Rating\": 9.3, \"Year\": 1994, \"Runtime in minutes\": 142, \"Western\": false, \"Drama\": true, \"Horror\": false, \"History\": false, \"Comedy\": false, \"Thriller\": false, \"Sci-Fi\": false, \"Biography\": false, \"Action\": false, \"Musical\": false, \"Romance\": false, \"Animation\": false, \"Adventure\": false, \"Music\": false, \"Fantasy\": false, \"Mystery\": false, \"Crime\": false, \"Film-Noir\": false, \"War\": false, \"Highlight\": true}, {\"Rank\": 5, \"Movie Name\": \"The Shining\", \"Genre\": \"Drama, Horror\", \"Rating\": 8.4, \"Year\": 1980, \"Runtime in minutes\": 146, \"Western\": false, \"Drama\": true, \"Horror\": true, \"History\": false, \"Comedy\": false, \"Thriller\": false, \"Sci-Fi\": false, \"Biography\": false, \"Action\": false, \"Musical\": false, \"Romance\": false, \"Animation\": false, \"Adventure\": false, \"Music\": false, \"Fantasy\": false, \"Mystery\": false, \"Crime\": false, \"Film-Noir\": false, \"War\": false, \"Highlight\": true}, {\"Rank\": 6, \"Movie Name\": \"Casablanca\", \"Genre\": \"Drama, Romance, War\", \"Rating\": 8.5, \"Year\": 1942, \"Runtime in minutes\": 102, \"Western\": false, \"Drama\": true, \"Horror\": false, \"History\": false, \"Comedy\": false, \"Thriller\": false, \"Sci-Fi\": false, \"Biography\": false, \"Action\": false, \"Musical\": false, \"Romance\": true, \"Animation\": false, \"Adventure\": false, \"Music\": false, \"Fantasy\": false, \"Mystery\": false, \"Crime\": false, \"Film-Noir\": false, \"War\": true, \"Highlight\": true}, {\"Rank\": 7, \"Movie Name\": \"One Flew Over the Cuckoo's Nest\", \"Genre\": \"Drama\", \"Rating\": 8.7, \"Year\": 1975, \"Runtime in minutes\": 133, \"Western\": false, \"Drama\": true, \"Horror\": false, \"History\": false, \"Comedy\": false, \"Thriller\": false, \"Sci-Fi\": false, \"Biography\": false, \"Action\": false, \"Musical\": false, \"Romance\": false, \"Animation\": false, \"Adventure\": false, \"Music\": false, \"Fantasy\": false, \"Mystery\": false, \"Crime\": false, \"Film-Noir\": false, \"War\": false, \"Highlight\": true}, {\"Rank\": 8, \"Movie Name\": \"Indiana Jones and the Raiders of the Lost Ark\", \"Genre\": \"Action, Adventure\", \"Rating\": 8.4, \"Year\": 1981, \"Runtime in minutes\": 115, \"Western\": false, \"Drama\": false, \"Horror\": false, \"History\": false, \"Comedy\": false, \"Thriller\": false, \"Sci-Fi\": false, \"Biography\": false, \"Action\": true, \"Musical\": false, \"Romance\": false, \"Animation\": false, \"Adventure\": true, \"Music\": false, \"Fantasy\": false, \"Mystery\": false, \"Crime\": false, \"Film-Noir\": false, \"War\": false, \"Highlight\": true}, {\"Rank\": 9, \"Movie Name\": \"The Lord of the Rings: The Return of the King\", \"Genre\": \"Action, Adventure, Drama\", \"Rating\": 9.0, \"Year\": 2003, \"Runtime in minutes\": 201, \"Western\": false, \"Drama\": true, \"Horror\": false, \"History\": false, \"Comedy\": false, \"Thriller\": false, \"Sci-Fi\": false, \"Biography\": false, \"Action\": true, \"Musical\": false, \"Romance\": false, \"Animation\": false, \"Adventure\": true, \"Music\": false, \"Fantasy\": false, \"Mystery\": false, \"Crime\": false, \"Film-Noir\": false, \"War\": false, \"Highlight\": true}, {\"Rank\": 10, \"Movie Name\": \"Star Wars: Episode IV - A New Hope\", \"Genre\": \"Action, Adventure, Fantasy\", \"Rating\": 8.6, \"Year\": 1977, \"Runtime in minutes\": 121, \"Western\": false, \"Drama\": false, \"Horror\": false, \"History\": false, \"Comedy\": false, \"Thriller\": false, \"Sci-Fi\": false, \"Biography\": false, \"Action\": true, \"Musical\": false, \"Romance\": false, \"Animation\": false, \"Adventure\": true, \"Music\": false, \"Fantasy\": true, \"Mystery\": false, \"Crime\": false, \"Film-Noir\": false, \"War\": false, \"Highlight\": true}, {\"Rank\": 11, \"Movie Name\": \"The Dark Knight\", \"Genre\": \"Action, Crime, Drama\", \"Rating\": 9.0, \"Year\": 2008, \"Runtime in minutes\": 152, \"Western\": false, \"Drama\": true, \"Horror\": false, \"History\": false, \"Comedy\": false, \"Thriller\": false, \"Sci-Fi\": false, \"Biography\": false, \"Action\": true, \"Musical\": false, \"Romance\": false, \"Animation\": false, \"Adventure\": false, \"Music\": false, \"Fantasy\": false, \"Mystery\": false, \"Crime\": true, \"Film-Noir\": false, \"War\": false, \"Highlight\": true}, {\"Rank\": 12, \"Movie Name\": \"The Godfather: Part II\", \"Genre\": \"Crime, Drama\", \"Rating\": 9.0, \"Year\": 1974, \"Runtime in minutes\": 202, \"Western\": false, \"Drama\": true, \"Horror\": false, \"History\": false, \"Comedy\": false, \"Thriller\": false, \"Sci-Fi\": false, \"Biography\": false, \"Action\": false, \"Musical\": false, \"Romance\": false, \"Animation\": false, \"Adventure\": false, \"Music\": false, \"Fantasy\": false, \"Mystery\": false, \"Crime\": true, \"Film-Noir\": false, \"War\": false, \"Highlight\": true}, {\"Rank\": 13, \"Movie Name\": \"Aliens\", \"Genre\": \"Action, Adventure, Sci-Fi\", \"Rating\": 8.4, \"Year\": 1986, \"Runtime in minutes\": 137, \"Western\": false, \"Drama\": false, \"Horror\": false, \"History\": false, \"Comedy\": false, \"Thriller\": false, \"Sci-Fi\": true, \"Biography\": false, \"Action\": true, \"Musical\": false, \"Romance\": false, \"Animation\": false, \"Adventure\": true, \"Music\": false, \"Fantasy\": false, \"Mystery\": false, \"Crime\": false, \"Film-Noir\": false, \"War\": false, \"Highlight\": true}, {\"Rank\": 14, \"Movie Name\": \"Schindler's List\", \"Genre\": \"Biography, Drama, History\", \"Rating\": 9.0, \"Year\": 1993, \"Runtime in minutes\": 195, \"Western\": false, \"Drama\": true, \"Horror\": false, \"History\": true, \"Comedy\": false, \"Thriller\": false, \"Sci-Fi\": false, \"Biography\": true, \"Action\": false, \"Musical\": false, \"Romance\": false, \"Animation\": false, \"Adventure\": false, \"Music\": false, \"Fantasy\": false, \"Mystery\": false, \"Crime\": false, \"Film-Noir\": false, \"War\": false, \"Highlight\": true}, {\"Rank\": 15, \"Movie Name\": \"Inception\", \"Genre\": \"Action, Adventure, Sci-Fi\", \"Rating\": 8.8, \"Year\": 2010, \"Runtime in minutes\": 148, \"Western\": false, \"Drama\": false, \"Horror\": false, \"History\": false, \"Comedy\": false, \"Thriller\": false, \"Sci-Fi\": true, \"Biography\": false, \"Action\": true, \"Musical\": false, \"Romance\": false, \"Animation\": false, \"Adventure\": true, \"Music\": false, \"Fantasy\": false, \"Mystery\": false, \"Crime\": false, \"Film-Noir\": false, \"War\": false, \"Highlight\": true}, {\"Rank\": 16, \"Movie Name\": \"The Lord of the Rings: The Fellowship of the Ring\", \"Genre\": \"Action, Adventure, Drama\", \"Rating\": 8.8, \"Year\": 2001, \"Runtime in minutes\": 178, \"Western\": false, \"Drama\": true, \"Horror\": false, \"History\": false, \"Comedy\": false, \"Thriller\": false, \"Sci-Fi\": false, \"Biography\": false, \"Action\": true, \"Musical\": false, \"Romance\": false, \"Animation\": false, \"Adventure\": true, \"Music\": false, \"Fantasy\": false, \"Mystery\": false, \"Crime\": false, \"Film-Noir\": false, \"War\": false, \"Highlight\": true}, {\"Rank\": 17, \"Movie Name\": \"Alien\", \"Genre\": \"Horror, Sci-Fi\", \"Rating\": 8.5, \"Year\": 1979, \"Runtime in minutes\": 117, \"Western\": false, \"Drama\": false, \"Horror\": true, \"History\": false, \"Comedy\": false, \"Thriller\": false, \"Sci-Fi\": true, \"Biography\": false, \"Action\": false, \"Musical\": false, \"Romance\": false, \"Animation\": false, \"Adventure\": false, \"Music\": false, \"Fantasy\": false, \"Mystery\": false, \"Crime\": false, \"Film-Noir\": false, \"War\": false, \"Highlight\": true}, {\"Rank\": 18, \"Movie Name\": \"Some Like It Hot\", \"Genre\": \"Comedy, Music, Romance\", \"Rating\": 8.2, \"Year\": 1959, \"Runtime in minutes\": 121, \"Western\": false, \"Drama\": false, \"Horror\": false, \"History\": false, \"Comedy\": true, \"Thriller\": false, \"Sci-Fi\": false, \"Biography\": false, \"Action\": false, \"Musical\": false, \"Romance\": true, \"Animation\": false, \"Adventure\": false, \"Music\": true, \"Fantasy\": false, \"Mystery\": false, \"Crime\": false, \"Film-Noir\": false, \"War\": false, \"Highlight\": true}, {\"Rank\": 19, \"Movie Name\": \"Blade Runner\", \"Genre\": \"Action, Drama, Sci-Fi\", \"Rating\": 8.1, \"Year\": 1982, \"Runtime in minutes\": 117, \"Western\": false, \"Drama\": true, \"Horror\": false, \"History\": false, \"Comedy\": false, \"Thriller\": false, \"Sci-Fi\": true, \"Biography\": false, \"Action\": true, \"Musical\": false, \"Romance\": false, \"Animation\": false, \"Adventure\": false, \"Music\": false, \"Fantasy\": false, \"Mystery\": false, \"Crime\": false, \"Film-Noir\": false, \"War\": false, \"Highlight\": true}, {\"Rank\": 20, \"Movie Name\": \"Se7en\", \"Genre\": \"Crime, Drama, Mystery\", \"Rating\": 8.6, \"Year\": 1995, \"Runtime in minutes\": 127, \"Western\": false, \"Drama\": true, \"Horror\": false, \"History\": false, \"Comedy\": false, \"Thriller\": false, \"Sci-Fi\": false, \"Biography\": false, \"Action\": false, \"Musical\": false, \"Romance\": false, \"Animation\": false, \"Adventure\": false, \"Music\": false, \"Fantasy\": false, \"Mystery\": true, \"Crime\": true, \"Film-Noir\": false, \"War\": false, \"Highlight\": true}, {\"Rank\": 21, \"Movie Name\": \"Apocalypse Now\", \"Genre\": \"Drama, Mystery, War\", \"Rating\": 8.5, \"Year\": 1979, \"Runtime in minutes\": 147, \"Western\": false, \"Drama\": true, \"Horror\": false, \"History\": false, \"Comedy\": false, \"Thriller\": false, \"Sci-Fi\": false, \"Biography\": false, \"Action\": false, \"Musical\": false, \"Romance\": false, \"Animation\": false, \"Adventure\": false, \"Music\": false, \"Fantasy\": false, \"Mystery\": true, \"Crime\": false, \"Film-Noir\": false, \"War\": true, \"Highlight\": true}, {\"Rank\": 22, \"Movie Name\": \"12 Angry Men\", \"Genre\": \"Crime, Drama\", \"Rating\": 9.0, \"Year\": 1957, \"Runtime in minutes\": 96, \"Western\": false, \"Drama\": true, \"Horror\": false, \"History\": false, \"Comedy\": false, \"Thriller\": false, \"Sci-Fi\": false, \"Biography\": false, \"Action\": false, \"Musical\": false, \"Romance\": false, \"Animation\": false, \"Adventure\": false, \"Music\": false, \"Fantasy\": false, \"Mystery\": false, \"Crime\": true, \"Film-Noir\": false, \"War\": false, \"Highlight\": true}, {\"Rank\": 23, \"Movie Name\": \"The Lord of the Rings: The Two Towers\", \"Genre\": \"Action, Adventure, Drama\", \"Rating\": 8.8, \"Year\": 2002, \"Runtime in minutes\": 179, \"Western\": false, \"Drama\": true, \"Horror\": false, \"History\": false, \"Comedy\": false, \"Thriller\": false, \"Sci-Fi\": false, \"Biography\": false, \"Action\": true, \"Musical\": false, \"Romance\": false, \"Animation\": false, \"Adventure\": true, \"Music\": false, \"Fantasy\": false, \"Mystery\": false, \"Crime\": false, \"Film-Noir\": false, \"War\": false, \"Highlight\": true}, {\"Rank\": 24, \"Movie Name\": \"Terminator 2: Judgment Day\", \"Genre\": \"Action, Sci-Fi\", \"Rating\": 8.6, \"Year\": 1991, \"Runtime in minutes\": 137, \"Western\": false, \"Drama\": false, \"Horror\": false, \"History\": false, \"Comedy\": false, \"Thriller\": false, \"Sci-Fi\": true, \"Biography\": false, \"Action\": true, \"Musical\": false, \"Romance\": false, \"Animation\": false, \"Adventure\": false, \"Music\": false, \"Fantasy\": false, \"Mystery\": false, \"Crime\": false, \"Film-Noir\": false, \"War\": false, \"Highlight\": true}, {\"Rank\": 25, \"Movie Name\": \"Star Wars: Episode VI - Return of the Jedi\", \"Genre\": \"Action, Adventure, Fantasy\", \"Rating\": 8.3, \"Year\": 1983, \"Runtime in minutes\": 131, \"Western\": false, \"Drama\": false, \"Horror\": false, \"History\": false, \"Comedy\": false, \"Thriller\": false, \"Sci-Fi\": false, \"Biography\": false, \"Action\": true, \"Musical\": false, \"Romance\": false, \"Animation\": false, \"Adventure\": true, \"Music\": false, \"Fantasy\": true, \"Mystery\": false, \"Crime\": false, \"Film-Noir\": false, \"War\": false, \"Highlight\": true}, {\"Rank\": 26, \"Movie Name\": \"Die Hard\", \"Genre\": \"Action, Thriller\", \"Rating\": 8.2, \"Year\": 1988, \"Runtime in minutes\": 132, \"Western\": false, \"Drama\": false, \"Horror\": false, \"History\": false, \"Comedy\": false, \"Thriller\": true, \"Sci-Fi\": false, \"Biography\": false, \"Action\": true, \"Musical\": false, \"Romance\": false, \"Animation\": false, \"Adventure\": false, \"Music\": false, \"Fantasy\": false, \"Mystery\": false, \"Crime\": false, \"Film-Noir\": false, \"War\": false, \"Highlight\": true}, {\"Rank\": 27, \"Movie Name\": \"Gone with the Wind\", \"Genre\": \"Drama, Romance, War\", \"Rating\": 8.2, \"Year\": 1939, \"Runtime in minutes\": 238, \"Western\": false, \"Drama\": true, \"Horror\": false, \"History\": false, \"Comedy\": false, \"Thriller\": false, \"Sci-Fi\": false, \"Biography\": false, \"Action\": false, \"Musical\": false, \"Romance\": true, \"Animation\": false, \"Adventure\": false, \"Music\": false, \"Fantasy\": false, \"Mystery\": false, \"Crime\": false, \"Film-Noir\": false, \"War\": true, \"Highlight\": true}, {\"Rank\": 28, \"Movie Name\": \"Taxi Driver\", \"Genre\": \"Crime, Drama\", \"Rating\": 8.2, \"Year\": 1976, \"Runtime in minutes\": 114, \"Western\": false, \"Drama\": true, \"Horror\": false, \"History\": false, \"Comedy\": false, \"Thriller\": false, \"Sci-Fi\": false, \"Biography\": false, \"Action\": false, \"Musical\": false, \"Romance\": false, \"Animation\": false, \"Adventure\": false, \"Music\": false, \"Fantasy\": false, \"Mystery\": false, \"Crime\": true, \"Film-Noir\": false, \"War\": false, \"Highlight\": true}, {\"Rank\": 29, \"Movie Name\": \"Pulp Fiction\", \"Genre\": \"Crime, Drama\", \"Rating\": 8.9, \"Year\": 1994, \"Runtime in minutes\": 154, \"Western\": false, \"Drama\": true, \"Horror\": false, \"History\": false, \"Comedy\": false, \"Thriller\": false, \"Sci-Fi\": false, \"Biography\": false, \"Action\": false, \"Musical\": false, \"Romance\": false, \"Animation\": false, \"Adventure\": false, \"Music\": false, \"Fantasy\": false, \"Mystery\": false, \"Crime\": true, \"Film-Noir\": false, \"War\": false, \"Highlight\": true}, {\"Rank\": 30, \"Movie Name\": \"The Bridge on the River Kwai\", \"Genre\": \"Adventure, Drama, War\", \"Rating\": 8.2, \"Year\": 1957, \"Runtime in minutes\": 161, \"Western\": false, \"Drama\": true, \"Horror\": false, \"History\": false, \"Comedy\": false, \"Thriller\": false, \"Sci-Fi\": false, \"Biography\": false, \"Action\": false, \"Musical\": false, \"Romance\": false, \"Animation\": false, \"Adventure\": true, \"Music\": false, \"Fantasy\": false, \"Mystery\": false, \"Crime\": false, \"Film-Noir\": false, \"War\": true, \"Highlight\": true}, {\"Rank\": 31, \"Movie Name\": \"The Lion King\", \"Genre\": \"Animation, Adventure, Drama\", \"Rating\": 8.5, \"Year\": 1994, \"Runtime in minutes\": 88, \"Western\": false, \"Drama\": true, \"Horror\": false, \"History\": false, \"Comedy\": false, \"Thriller\": false, \"Sci-Fi\": false, \"Biography\": false, \"Action\": false, \"Musical\": false, \"Romance\": false, \"Animation\": true, \"Adventure\": true, \"Music\": false, \"Fantasy\": false, \"Mystery\": false, \"Crime\": false, \"Film-Noir\": false, \"War\": false, \"Highlight\": true}, {\"Rank\": 32, \"Movie Name\": \"North by Northwest\", \"Genre\": \"Action, Adventure, Mystery\", \"Rating\": 8.3, \"Year\": 1959, \"Runtime in minutes\": 136, \"Western\": false, \"Drama\": false, \"Horror\": false, \"History\": false, \"Comedy\": false, \"Thriller\": false, \"Sci-Fi\": false, \"Biography\": false, \"Action\": true, \"Musical\": false, \"Romance\": false, \"Animation\": false, \"Adventure\": true, \"Music\": false, \"Fantasy\": false, \"Mystery\": true, \"Crime\": false, \"Film-Noir\": false, \"War\": false, \"Highlight\": true}, {\"Rank\": 33, \"Movie Name\": \"Rear Window\", \"Genre\": \"Mystery, Thriller\", \"Rating\": 8.5, \"Year\": 1954, \"Runtime in minutes\": 112, \"Western\": false, \"Drama\": false, \"Horror\": false, \"History\": false, \"Comedy\": false, \"Thriller\": true, \"Sci-Fi\": false, \"Biography\": false, \"Action\": false, \"Musical\": false, \"Romance\": false, \"Animation\": false, \"Adventure\": false, \"Music\": false, \"Fantasy\": false, \"Mystery\": true, \"Crime\": false, \"Film-Noir\": false, \"War\": false, \"Highlight\": true}, {\"Rank\": 34, \"Movie Name\": \"L\\u00e9on: The Professional\", \"Genre\": \"Action, Crime, Drama\", \"Rating\": 8.5, \"Year\": 1994, \"Runtime in minutes\": 110, \"Western\": false, \"Drama\": true, \"Horror\": false, \"History\": false, \"Comedy\": false, \"Thriller\": false, \"Sci-Fi\": false, \"Biography\": false, \"Action\": true, \"Musical\": false, \"Romance\": false, \"Animation\": false, \"Adventure\": false, \"Music\": false, \"Fantasy\": false, \"Mystery\": false, \"Crime\": true, \"Film-Noir\": false, \"War\": false, \"Highlight\": true}, {\"Rank\": 35, \"Movie Name\": \"Back to the Future\", \"Genre\": \"Adventure, Comedy, Sci-Fi\", \"Rating\": 8.5, \"Year\": 1985, \"Runtime in minutes\": 116, \"Western\": false, \"Drama\": false, \"Horror\": false, \"History\": false, \"Comedy\": true, \"Thriller\": false, \"Sci-Fi\": true, \"Biography\": false, \"Action\": false, \"Musical\": false, \"Romance\": false, \"Animation\": false, \"Adventure\": true, \"Music\": false, \"Fantasy\": false, \"Mystery\": false, \"Crime\": false, \"Film-Noir\": false, \"War\": false, \"Highlight\": true}, {\"Rank\": 36, \"Movie Name\": \"Citizen Kane\", \"Genre\": \"Drama, Mystery\", \"Rating\": 8.3, \"Year\": 1941, \"Runtime in minutes\": 119, \"Western\": false, \"Drama\": true, \"Horror\": false, \"History\": false, \"Comedy\": false, \"Thriller\": false, \"Sci-Fi\": false, \"Biography\": false, \"Action\": false, \"Musical\": false, \"Romance\": false, \"Animation\": false, \"Adventure\": false, \"Music\": false, \"Fantasy\": false, \"Mystery\": true, \"Crime\": false, \"Film-Noir\": false, \"War\": false, \"Highlight\": true}, {\"Rank\": 37, \"Movie Name\": \"Goodfellas\", \"Genre\": \"Biography, Crime, Drama\", \"Rating\": 8.7, \"Year\": 1990, \"Runtime in minutes\": 145, \"Western\": false, \"Drama\": true, \"Horror\": false, \"History\": false, \"Comedy\": false, \"Thriller\": false, \"Sci-Fi\": false, \"Biography\": true, \"Action\": false, \"Musical\": false, \"Romance\": false, \"Animation\": false, \"Adventure\": false, \"Music\": false, \"Fantasy\": false, \"Mystery\": false, \"Crime\": true, \"Film-Noir\": false, \"War\": false, \"Highlight\": true}, {\"Rank\": 38, \"Movie Name\": \"Memento\", \"Genre\": \"Mystery, Thriller\", \"Rating\": 8.4, \"Year\": 2000, \"Runtime in minutes\": 113, \"Western\": false, \"Drama\": false, \"Horror\": false, \"History\": false, \"Comedy\": false, \"Thriller\": true, \"Sci-Fi\": false, \"Biography\": false, \"Action\": false, \"Musical\": false, \"Romance\": false, \"Animation\": false, \"Adventure\": false, \"Music\": false, \"Fantasy\": false, \"Mystery\": true, \"Crime\": false, \"Film-Noir\": false, \"War\": false, \"Highlight\": true}, {\"Rank\": 39, \"Movie Name\": \"American Beauty\", \"Genre\": \"Drama\", \"Rating\": 8.4, \"Year\": 1999, \"Runtime in minutes\": 122, \"Western\": false, \"Drama\": true, \"Horror\": false, \"History\": false, \"Comedy\": false, \"Thriller\": false, \"Sci-Fi\": false, \"Biography\": false, \"Action\": false, \"Musical\": false, \"Romance\": false, \"Animation\": false, \"Adventure\": false, \"Music\": false, \"Fantasy\": false, \"Mystery\": false, \"Crime\": false, \"Film-Noir\": false, \"War\": false, \"Highlight\": true}, {\"Rank\": 40, \"Movie Name\": \"As Good as It Gets\", \"Genre\": \"Comedy, Drama, Romance\", \"Rating\": 7.7, \"Year\": 1997, \"Runtime in minutes\": 139, \"Western\": false, \"Drama\": true, \"Horror\": false, \"History\": false, \"Comedy\": true, \"Thriller\": false, \"Sci-Fi\": false, \"Biography\": false, \"Action\": false, \"Musical\": false, \"Romance\": true, \"Animation\": false, \"Adventure\": false, \"Music\": false, \"Fantasy\": false, \"Mystery\": false, \"Crime\": false, \"Film-Noir\": false, \"War\": false, \"Highlight\": true}, {\"Rank\": 41, \"Movie Name\": \"Forrest Gump\", \"Genre\": \"Drama, Romance\", \"Rating\": 8.8, \"Year\": 1994, \"Runtime in minutes\": 142, \"Western\": false, \"Drama\": true, \"Horror\": false, \"History\": false, \"Comedy\": false, \"Thriller\": false, \"Sci-Fi\": false, \"Biography\": false, \"Action\": false, \"Musical\": false, \"Romance\": true, \"Animation\": false, \"Adventure\": false, \"Music\": false, \"Fantasy\": false, \"Mystery\": false, \"Crime\": false, \"Film-Noir\": false, \"War\": false, \"Highlight\": true}, {\"Rank\": 42, \"Movie Name\": \"Singin' in the Rain\", \"Genre\": \"Comedy, Musical, Romance\", \"Rating\": 8.3, \"Year\": 1952, \"Runtime in minutes\": 103, \"Western\": false, \"Drama\": false, \"Horror\": false, \"History\": false, \"Comedy\": true, \"Thriller\": false, \"Sci-Fi\": false, \"Biography\": false, \"Action\": false, \"Musical\": true, \"Romance\": true, \"Animation\": false, \"Adventure\": false, \"Music\": true, \"Fantasy\": false, \"Mystery\": false, \"Crime\": false, \"Film-Noir\": false, \"War\": false, \"Highlight\": true}, {\"Rank\": 43, \"Movie Name\": \"Braveheart\", \"Genre\": \"Biography, Drama, History\", \"Rating\": 8.4, \"Year\": 1995, \"Runtime in minutes\": 178, \"Western\": false, \"Drama\": true, \"Horror\": false, \"History\": true, \"Comedy\": false, \"Thriller\": false, \"Sci-Fi\": false, \"Biography\": true, \"Action\": false, \"Musical\": false, \"Romance\": false, \"Animation\": false, \"Adventure\": false, \"Music\": false, \"Fantasy\": false, \"Mystery\": false, \"Crime\": false, \"Film-Noir\": false, \"War\": false, \"Highlight\": true}, {\"Rank\": 44, \"Movie Name\": \"Saving Private Ryan\", \"Genre\": \"Drama, War\", \"Rating\": 8.6, \"Year\": 1998, \"Runtime in minutes\": 169, \"Western\": false, \"Drama\": true, \"Horror\": false, \"History\": false, \"Comedy\": false, \"Thriller\": false, \"Sci-Fi\": false, \"Biography\": false, \"Action\": false, \"Musical\": false, \"Romance\": false, \"Animation\": false, \"Adventure\": false, \"Music\": false, \"Fantasy\": false, \"Mystery\": false, \"Crime\": false, \"Film-Noir\": false, \"War\": true, \"Highlight\": true}, {\"Rank\": 45, \"Movie Name\": \"Rain Man\", \"Genre\": \"Drama\", \"Rating\": 8.0, \"Year\": 1988, \"Runtime in minutes\": 133, \"Western\": false, \"Drama\": true, \"Horror\": false, \"History\": false, \"Comedy\": false, \"Thriller\": false, \"Sci-Fi\": false, \"Biography\": false, \"Action\": false, \"Musical\": false, \"Romance\": false, \"Animation\": false, \"Adventure\": false, \"Music\": false, \"Fantasy\": false, \"Mystery\": false, \"Crime\": false, \"Film-Noir\": false, \"War\": false, \"Highlight\": true}, {\"Rank\": 46, \"Movie Name\": \"The King's Speech\", \"Genre\": \"Biography, Drama, History\", \"Rating\": 8.0, \"Year\": 2010, \"Runtime in minutes\": 118, \"Western\": false, \"Drama\": true, \"Horror\": false, \"History\": true, \"Comedy\": false, \"Thriller\": false, \"Sci-Fi\": false, \"Biography\": true, \"Action\": false, \"Musical\": false, \"Romance\": false, \"Animation\": false, \"Adventure\": false, \"Music\": false, \"Fantasy\": false, \"Mystery\": false, \"Crime\": false, \"Film-Noir\": false, \"War\": false, \"Highlight\": true}, {\"Rank\": 47, \"Movie Name\": \"2001: A Space Odyssey\", \"Genre\": \"Adventure, Sci-Fi\", \"Rating\": 8.3, \"Year\": 1968, \"Runtime in minutes\": 149, \"Western\": false, \"Drama\": false, \"Horror\": false, \"History\": false, \"Comedy\": false, \"Thriller\": false, \"Sci-Fi\": true, \"Biography\": false, \"Action\": false, \"Musical\": false, \"Romance\": false, \"Animation\": false, \"Adventure\": true, \"Music\": false, \"Fantasy\": false, \"Mystery\": false, \"Crime\": false, \"Film-Noir\": false, \"War\": false, \"Highlight\": true}, {\"Rank\": 48, \"Movie Name\": \"Kill Bill: Vol. 1\", \"Genre\": \"Action, Crime, Drama\", \"Rating\": 8.2, \"Year\": 2003, \"Runtime in minutes\": 111, \"Western\": false, \"Drama\": true, \"Horror\": false, \"History\": false, \"Comedy\": false, \"Thriller\": false, \"Sci-Fi\": false, \"Biography\": false, \"Action\": true, \"Musical\": false, \"Romance\": false, \"Animation\": false, \"Adventure\": false, \"Music\": false, \"Fantasy\": false, \"Mystery\": false, \"Crime\": true, \"Film-Noir\": false, \"War\": false, \"Highlight\": true}, {\"Rank\": 49, \"Movie Name\": \"Avanti!\", \"Genre\": \"Comedy, Romance\", \"Rating\": 7.2, \"Year\": 1972, \"Runtime in minutes\": 144, \"Western\": false, \"Drama\": false, \"Horror\": false, \"History\": false, \"Comedy\": true, \"Thriller\": false, \"Sci-Fi\": false, \"Biography\": false, \"Action\": false, \"Musical\": false, \"Romance\": true, \"Animation\": false, \"Adventure\": false, \"Music\": false, \"Fantasy\": false, \"Mystery\": false, \"Crime\": false, \"Film-Noir\": false, \"War\": false, \"Highlight\": true}, {\"Rank\": 50, \"Movie Name\": \"The Good, the Bad and the Ugly\", \"Genre\": \"Adventure, Western\", \"Rating\": 8.8, \"Year\": 1966, \"Runtime in minutes\": 178, \"Western\": true, \"Drama\": false, \"Horror\": false, \"History\": false, \"Comedy\": false, \"Thriller\": false, \"Sci-Fi\": false, \"Biography\": false, \"Action\": false, \"Musical\": false, \"Romance\": false, \"Animation\": false, \"Adventure\": true, \"Music\": false, \"Fantasy\": false, \"Mystery\": false, \"Crime\": false, \"Film-Noir\": false, \"War\": false, \"Highlight\": true}, {\"Rank\": 51, \"Movie Name\": \"Am\\u00e9lie\", \"Genre\": \"Comedy, Romance\", \"Rating\": 8.3, \"Year\": 2001, \"Runtime in minutes\": 122, \"Western\": false, \"Drama\": false, \"Horror\": false, \"History\": false, \"Comedy\": true, \"Thriller\": false, \"Sci-Fi\": false, \"Biography\": false, \"Action\": false, \"Musical\": false, \"Romance\": true, \"Animation\": false, \"Adventure\": false, \"Music\": false, \"Fantasy\": false, \"Mystery\": false, \"Crime\": false, \"Film-Noir\": false, \"War\": false, \"Highlight\": true}, {\"Rank\": 52, \"Movie Name\": \"Modern Times\", \"Genre\": \"Comedy, Drama, Romance\", \"Rating\": 8.5, \"Year\": 1936, \"Runtime in minutes\": 87, \"Western\": false, \"Drama\": true, \"Horror\": false, \"History\": false, \"Comedy\": true, \"Thriller\": false, \"Sci-Fi\": false, \"Biography\": false, \"Action\": false, \"Musical\": false, \"Romance\": true, \"Animation\": false, \"Adventure\": false, \"Music\": false, \"Fantasy\": false, \"Mystery\": false, \"Crime\": false, \"Film-Noir\": false, \"War\": false, \"Highlight\": true}, {\"Rank\": 53, \"Movie Name\": \"Lost in Translation\", \"Genre\": \"Comedy, Drama\", \"Rating\": 7.7, \"Year\": 2003, \"Runtime in minutes\": 102, \"Western\": false, \"Drama\": true, \"Horror\": false, \"History\": false, \"Comedy\": true, \"Thriller\": false, \"Sci-Fi\": false, \"Biography\": false, \"Action\": false, \"Musical\": false, \"Romance\": false, \"Animation\": false, \"Adventure\": false, \"Music\": false, \"Fantasy\": false, \"Mystery\": false, \"Crime\": false, \"Film-Noir\": false, \"War\": false, \"Highlight\": true}, {\"Rank\": 54, \"Movie Name\": \"Full Metal Jacket\", \"Genre\": \"Drama, War\", \"Rating\": 8.3, \"Year\": 1987, \"Runtime in minutes\": 116, \"Western\": false, \"Drama\": true, \"Horror\": false, \"History\": false, \"Comedy\": false, \"Thriller\": false, \"Sci-Fi\": false, \"Biography\": false, \"Action\": false, \"Musical\": false, \"Romance\": false, \"Animation\": false, \"Adventure\": false, \"Music\": false, \"Fantasy\": false, \"Mystery\": false, \"Crime\": false, \"Film-Noir\": false, \"War\": true, \"Highlight\": true}, {\"Rank\": 55, \"Movie Name\": \"Requiem for a Dream\", \"Genre\": \"Drama\", \"Rating\": 8.3, \"Year\": 2000, \"Runtime in minutes\": 102, \"Western\": false, \"Drama\": true, \"Horror\": false, \"History\": false, \"Comedy\": false, \"Thriller\": false, \"Sci-Fi\": false, \"Biography\": false, \"Action\": false, \"Musical\": false, \"Romance\": false, \"Animation\": false, \"Adventure\": false, \"Music\": false, \"Fantasy\": false, \"Mystery\": false, \"Crime\": false, \"Film-Noir\": false, \"War\": false, \"Highlight\": true}, {\"Rank\": 56, \"Movie Name\": \"Fight Club\", \"Genre\": \"Drama\", \"Rating\": 8.8, \"Year\": 1999, \"Runtime in minutes\": 139, \"Western\": false, \"Drama\": true, \"Horror\": false, \"History\": false, \"Comedy\": false, \"Thriller\": false, \"Sci-Fi\": false, \"Biography\": false, \"Action\": false, \"Musical\": false, \"Romance\": false, \"Animation\": false, \"Adventure\": false, \"Music\": false, \"Fantasy\": false, \"Mystery\": false, \"Crime\": false, \"Film-Noir\": false, \"War\": false, \"Highlight\": true}, {\"Rank\": 57, \"Movie Name\": \"No Country for Old Men\", \"Genre\": \"Crime, Drama, Thriller\", \"Rating\": 8.2, \"Year\": 2007, \"Runtime in minutes\": 122, \"Western\": false, \"Drama\": true, \"Horror\": false, \"History\": false, \"Comedy\": false, \"Thriller\": true, \"Sci-Fi\": false, \"Biography\": false, \"Action\": false, \"Musical\": false, \"Romance\": false, \"Animation\": false, \"Adventure\": false, \"Music\": false, \"Fantasy\": false, \"Mystery\": false, \"Crime\": true, \"Film-Noir\": false, \"War\": false, \"Highlight\": true}, {\"Rank\": 58, \"Movie Name\": \"Django Unchained\", \"Genre\": \"Drama, Western\", \"Rating\": 8.4, \"Year\": 2012, \"Runtime in minutes\": 165, \"Western\": true, \"Drama\": true, \"Horror\": false, \"History\": false, \"Comedy\": false, \"Thriller\": false, \"Sci-Fi\": false, \"Biography\": false, \"Action\": false, \"Musical\": false, \"Romance\": false, \"Animation\": false, \"Adventure\": false, \"Music\": false, \"Fantasy\": false, \"Mystery\": false, \"Crime\": false, \"Film-Noir\": false, \"War\": false, \"Highlight\": true}, {\"Rank\": 59, \"Movie Name\": \"Children of Men\", \"Genre\": \"Action, Drama, Sci-Fi\", \"Rating\": 7.9, \"Year\": 2006, \"Runtime in minutes\": 109, \"Western\": false, \"Drama\": true, \"Horror\": false, \"History\": false, \"Comedy\": false, \"Thriller\": false, \"Sci-Fi\": true, \"Biography\": false, \"Action\": true, \"Musical\": false, \"Romance\": false, \"Animation\": false, \"Adventure\": false, \"Music\": false, \"Fantasy\": false, \"Mystery\": false, \"Crime\": false, \"Film-Noir\": false, \"War\": false, \"Highlight\": true}, {\"Rank\": 60, \"Movie Name\": \"Ratatouille\", \"Genre\": \"Animation, Adventure, Comedy\", \"Rating\": 8.1, \"Year\": 2007, \"Runtime in minutes\": 111, \"Western\": false, \"Drama\": false, \"Horror\": false, \"History\": false, \"Comedy\": true, \"Thriller\": false, \"Sci-Fi\": false, \"Biography\": false, \"Action\": false, \"Musical\": false, \"Romance\": false, \"Animation\": true, \"Adventure\": true, \"Music\": false, \"Fantasy\": false, \"Mystery\": false, \"Crime\": false, \"Film-Noir\": false, \"War\": false, \"Highlight\": true}, {\"Rank\": 61, \"Movie Name\": \"The Lives of Others\", \"Genre\": \"Drama, Mystery, Thriller\", \"Rating\": 8.4, \"Year\": 2006, \"Runtime in minutes\": 137, \"Western\": false, \"Drama\": true, \"Horror\": false, \"History\": false, \"Comedy\": false, \"Thriller\": true, \"Sci-Fi\": false, \"Biography\": false, \"Action\": false, \"Musical\": false, \"Romance\": false, \"Animation\": false, \"Adventure\": false, \"Music\": false, \"Fantasy\": false, \"Mystery\": true, \"Crime\": false, \"Film-Noir\": false, \"War\": false, \"Highlight\": true}, {\"Rank\": 62, \"Movie Name\": \"The Prestige\", \"Genre\": \"Drama, Mystery, Sci-Fi\", \"Rating\": 8.5, \"Year\": 2006, \"Runtime in minutes\": 130, \"Western\": false, \"Drama\": true, \"Horror\": false, \"History\": false, \"Comedy\": false, \"Thriller\": false, \"Sci-Fi\": true, \"Biography\": false, \"Action\": false, \"Musical\": false, \"Romance\": false, \"Animation\": false, \"Adventure\": false, \"Music\": false, \"Fantasy\": false, \"Mystery\": true, \"Crime\": false, \"Film-Noir\": false, \"War\": false, \"Highlight\": true}, {\"Rank\": 63, \"Movie Name\": \"V for Vendetta\", \"Genre\": \"Action, Drama, Sci-Fi\", \"Rating\": 8.2, \"Year\": 2005, \"Runtime in minutes\": 132, \"Western\": false, \"Drama\": true, \"Horror\": false, \"History\": false, \"Comedy\": false, \"Thriller\": false, \"Sci-Fi\": true, \"Biography\": false, \"Action\": true, \"Musical\": false, \"Romance\": false, \"Animation\": false, \"Adventure\": false, \"Music\": false, \"Fantasy\": false, \"Mystery\": false, \"Crime\": false, \"Film-Noir\": false, \"War\": false, \"Highlight\": true}, {\"Rank\": 64, \"Movie Name\": \"Chinatown\", \"Genre\": \"Drama, Mystery, Thriller\", \"Rating\": 8.2, \"Year\": 1974, \"Runtime in minutes\": 130, \"Western\": false, \"Drama\": true, \"Horror\": false, \"History\": false, \"Comedy\": false, \"Thriller\": true, \"Sci-Fi\": false, \"Biography\": false, \"Action\": false, \"Musical\": false, \"Romance\": false, \"Animation\": false, \"Adventure\": false, \"Music\": false, \"Fantasy\": false, \"Mystery\": true, \"Crime\": false, \"Film-Noir\": false, \"War\": false, \"Highlight\": true}, {\"Rank\": 65, \"Movie Name\": \"City of God\", \"Genre\": \"Crime, Drama\", \"Rating\": 8.6, \"Year\": 2002, \"Runtime in minutes\": 130, \"Western\": false, \"Drama\": true, \"Horror\": false, \"History\": false, \"Comedy\": false, \"Thriller\": false, \"Sci-Fi\": false, \"Biography\": false, \"Action\": false, \"Musical\": false, \"Romance\": false, \"Animation\": false, \"Adventure\": false, \"Music\": false, \"Fantasy\": false, \"Mystery\": false, \"Crime\": true, \"Film-Noir\": false, \"War\": false, \"Highlight\": true}, {\"Rank\": 66, \"Movie Name\": \"To Have and Have Not\", \"Genre\": \"Adventure, Comedy, Film-Noir\", \"Rating\": 7.8, \"Year\": 1944, \"Runtime in minutes\": 100, \"Western\": false, \"Drama\": false, \"Horror\": false, \"History\": false, \"Comedy\": true, \"Thriller\": false, \"Sci-Fi\": false, \"Biography\": false, \"Action\": false, \"Musical\": false, \"Romance\": false, \"Animation\": false, \"Adventure\": true, \"Music\": false, \"Fantasy\": false, \"Mystery\": false, \"Crime\": false, \"Film-Noir\": true, \"War\": false, \"Highlight\": true}, {\"Rank\": 67, \"Movie Name\": \"Fargo\", \"Genre\": \"Crime, Thriller\", \"Rating\": 8.1, \"Year\": 1996, \"Runtime in minutes\": 98, \"Western\": false, \"Drama\": false, \"Horror\": false, \"History\": false, \"Comedy\": false, \"Thriller\": true, \"Sci-Fi\": false, \"Biography\": false, \"Action\": false, \"Musical\": false, \"Romance\": false, \"Animation\": false, \"Adventure\": false, \"Music\": false, \"Fantasy\": false, \"Mystery\": false, \"Crime\": true, \"Film-Noir\": false, \"War\": false, \"Highlight\": true}, {\"Rank\": 68, \"Movie Name\": \"Life of Pi\", \"Genre\": \"Adventure, Drama, Fantasy\", \"Rating\": 7.9, \"Year\": 2012, \"Runtime in minutes\": 127, \"Western\": false, \"Drama\": true, \"Horror\": false, \"History\": false, \"Comedy\": false, \"Thriller\": false, \"Sci-Fi\": false, \"Biography\": false, \"Action\": false, \"Musical\": false, \"Romance\": false, \"Animation\": false, \"Adventure\": true, \"Music\": false, \"Fantasy\": true, \"Mystery\": false, \"Crime\": false, \"Film-Noir\": false, \"War\": false, \"Highlight\": true}, {\"Rank\": 69, \"Movie Name\": \"Slumdog Millionaire\", \"Genre\": \"Crime, Drama, Romance\", \"Rating\": 8.0, \"Year\": 2008, \"Runtime in minutes\": 120, \"Western\": false, \"Drama\": true, \"Horror\": false, \"History\": false, \"Comedy\": false, \"Thriller\": false, \"Sci-Fi\": false, \"Biography\": false, \"Action\": false, \"Musical\": false, \"Romance\": true, \"Animation\": false, \"Adventure\": false, \"Music\": false, \"Fantasy\": false, \"Mystery\": false, \"Crime\": true, \"Film-Noir\": false, \"War\": false, \"Highlight\": true}, {\"Rank\": 70, \"Movie Name\": \"Vertigo\", \"Genre\": \"Mystery, Romance, Thriller\", \"Rating\": 8.3, \"Year\": 1958, \"Runtime in minutes\": 128, \"Western\": false, \"Drama\": false, \"Horror\": false, \"History\": false, \"Comedy\": false, \"Thriller\": true, \"Sci-Fi\": false, \"Biography\": false, \"Action\": false, \"Musical\": false, \"Romance\": true, \"Animation\": false, \"Adventure\": false, \"Music\": false, \"Fantasy\": false, \"Mystery\": true, \"Crime\": false, \"Film-Noir\": false, \"War\": false, \"Highlight\": true}, {\"Rank\": 71, \"Movie Name\": \"Trainspotting\", \"Genre\": \"Drama\", \"Rating\": 8.1, \"Year\": 1996, \"Runtime in minutes\": 93, \"Western\": false, \"Drama\": true, \"Horror\": false, \"History\": false, \"Comedy\": false, \"Thriller\": false, \"Sci-Fi\": false, \"Biography\": false, \"Action\": false, \"Musical\": false, \"Romance\": false, \"Animation\": false, \"Adventure\": false, \"Music\": false, \"Fantasy\": false, \"Mystery\": false, \"Crime\": false, \"Film-Noir\": false, \"War\": false, \"Highlight\": true}, {\"Rank\": 72, \"Movie Name\": \"Interstellar\", \"Genre\": \"Adventure, Drama, Sci-Fi\", \"Rating\": 8.6, \"Year\": 2014, \"Runtime in minutes\": 169, \"Western\": false, \"Drama\": true, \"Horror\": false, \"History\": false, \"Comedy\": false, \"Thriller\": false, \"Sci-Fi\": true, \"Biography\": false, \"Action\": false, \"Musical\": false, \"Romance\": false, \"Animation\": false, \"Adventure\": true, \"Music\": false, \"Fantasy\": false, \"Mystery\": false, \"Crime\": false, \"Film-Noir\": false, \"War\": false, \"Highlight\": true}, {\"Rank\": 73, \"Movie Name\": \"The Thing\", \"Genre\": \"Horror, Mystery, Sci-Fi\", \"Rating\": 8.2, \"Year\": 1982, \"Runtime in minutes\": 109, \"Western\": false, \"Drama\": false, \"Horror\": true, \"History\": false, \"Comedy\": false, \"Thriller\": false, \"Sci-Fi\": true, \"Biography\": false, \"Action\": false, \"Musical\": false, \"Romance\": false, \"Animation\": false, \"Adventure\": false, \"Music\": false, \"Fantasy\": false, \"Mystery\": true, \"Crime\": false, \"Film-Noir\": false, \"War\": false, \"Highlight\": true}, {\"Rank\": 74, \"Movie Name\": \"The Third Man\", \"Genre\": \"Film-Noir, Mystery, Thriller\", \"Rating\": 8.1, \"Year\": 1949, \"Runtime in minutes\": 93, \"Western\": false, \"Drama\": false, \"Horror\": false, \"History\": false, \"Comedy\": false, \"Thriller\": true, \"Sci-Fi\": false, \"Biography\": false, \"Action\": false, \"Musical\": false, \"Romance\": false, \"Animation\": false, \"Adventure\": false, \"Music\": false, \"Fantasy\": false, \"Mystery\": true, \"Crime\": false, \"Film-Noir\": true, \"War\": false, \"Highlight\": true}, {\"Rank\": 75, \"Movie Name\": \"12 Monkeys\", \"Genre\": \"Mystery, Sci-Fi, Thriller\", \"Rating\": 8.0, \"Year\": 1995, \"Runtime in minutes\": 129, \"Western\": false, \"Drama\": false, \"Horror\": false, \"History\": false, \"Comedy\": false, \"Thriller\": true, \"Sci-Fi\": true, \"Biography\": false, \"Action\": false, \"Musical\": false, \"Romance\": false, \"Animation\": false, \"Adventure\": false, \"Music\": false, \"Fantasy\": false, \"Mystery\": true, \"Crime\": false, \"Film-Noir\": false, \"War\": false, \"Highlight\": true}, {\"Rank\": 76, \"Movie Name\": \"Life Is Beautiful\", \"Genre\": \"Comedy, Drama, Romance\", \"Rating\": 8.6, \"Year\": 1997, \"Runtime in minutes\": 116, \"Western\": false, \"Drama\": true, \"Horror\": false, \"History\": false, \"Comedy\": true, \"Thriller\": false, \"Sci-Fi\": false, \"Biography\": false, \"Action\": false, \"Musical\": false, \"Romance\": true, \"Animation\": false, \"Adventure\": false, \"Music\": false, \"Fantasy\": false, \"Mystery\": false, \"Crime\": false, \"Film-Noir\": false, \"War\": false, \"Highlight\": true}, {\"Rank\": 77, \"Movie Name\": \"The Pianist\", \"Genre\": \"Biography, Drama, Music\", \"Rating\": 8.5, \"Year\": 2002, \"Runtime in minutes\": 150, \"Western\": false, \"Drama\": true, \"Horror\": false, \"History\": false, \"Comedy\": false, \"Thriller\": false, \"Sci-Fi\": false, \"Biography\": true, \"Action\": false, \"Musical\": false, \"Romance\": false, \"Animation\": false, \"Adventure\": false, \"Music\": true, \"Fantasy\": false, \"Mystery\": false, \"Crime\": false, \"Film-Noir\": false, \"War\": false, \"Highlight\": true}, {\"Rank\": 78, \"Movie Name\": \"Magnolia\", \"Genre\": \"Drama\", \"Rating\": 8.0, \"Year\": 1999, \"Runtime in minutes\": 188, \"Western\": false, \"Drama\": true, \"Horror\": false, \"History\": false, \"Comedy\": false, \"Thriller\": false, \"Sci-Fi\": false, \"Biography\": false, \"Action\": false, \"Musical\": false, \"Romance\": false, \"Animation\": false, \"Adventure\": false, \"Music\": false, \"Fantasy\": false, \"Mystery\": false, \"Crime\": false, \"Film-Noir\": false, \"War\": false, \"Highlight\": true}, {\"Rank\": 79, \"Movie Name\": \"The Dark Knight Rises\", \"Genre\": \"Action, Drama\", \"Rating\": 8.4, \"Year\": 2012, \"Runtime in minutes\": 164, \"Western\": false, \"Drama\": true, \"Horror\": false, \"History\": false, \"Comedy\": false, \"Thriller\": false, \"Sci-Fi\": false, \"Biography\": false, \"Action\": true, \"Musical\": false, \"Romance\": false, \"Animation\": false, \"Adventure\": false, \"Music\": false, \"Fantasy\": false, \"Mystery\": false, \"Crime\": false, \"Film-Noir\": false, \"War\": false, \"Highlight\": true}, {\"Rank\": 80, \"Movie Name\": \"Star Wars: Episode VII - The Force Awakens\", \"Genre\": \"Action, Adventure, Sci-Fi\", \"Rating\": 7.8, \"Year\": 2015, \"Runtime in minutes\": 138, \"Western\": false, \"Drama\": false, \"Horror\": false, \"History\": false, \"Comedy\": false, \"Thriller\": false, \"Sci-Fi\": true, \"Biography\": false, \"Action\": true, \"Musical\": false, \"Romance\": false, \"Animation\": false, \"Adventure\": true, \"Music\": false, \"Fantasy\": false, \"Mystery\": false, \"Crime\": false, \"Film-Noir\": false, \"War\": false, \"Highlight\": true}, {\"Rank\": 81, \"Movie Name\": \"The Hobbit: The Desolation of Smaug\", \"Genre\": \"Adventure, Fantasy\", \"Rating\": 7.8, \"Year\": 2013, \"Runtime in minutes\": 161, \"Western\": false, \"Drama\": false, \"Horror\": false, \"History\": false, \"Comedy\": false, \"Thriller\": false, \"Sci-Fi\": false, \"Biography\": false, \"Action\": false, \"Musical\": false, \"Romance\": false, \"Animation\": false, \"Adventure\": true, \"Music\": false, \"Fantasy\": true, \"Mystery\": false, \"Crime\": false, \"Film-Noir\": false, \"War\": false, \"Highlight\": true}, {\"Rank\": 82, \"Movie Name\": \"Mad Max: Fury Road\", \"Genre\": \"Action, Adventure, Sci-Fi\", \"Rating\": 8.1, \"Year\": 2015, \"Runtime in minutes\": 120, \"Western\": false, \"Drama\": false, \"Horror\": false, \"History\": false, \"Comedy\": false, \"Thriller\": false, \"Sci-Fi\": true, \"Biography\": false, \"Action\": true, \"Musical\": false, \"Romance\": false, \"Animation\": false, \"Adventure\": true, \"Music\": false, \"Fantasy\": false, \"Mystery\": false, \"Crime\": false, \"Film-Noir\": false, \"War\": false, \"Highlight\": true}, {\"Rank\": 83, \"Movie Name\": \"12 Years a Slave\", \"Genre\": \"Biography, Drama, History\", \"Rating\": 8.1, \"Year\": 2013, \"Runtime in minutes\": 134, \"Western\": false, \"Drama\": true, \"Horror\": false, \"History\": true, \"Comedy\": false, \"Thriller\": false, \"Sci-Fi\": false, \"Biography\": true, \"Action\": false, \"Musical\": false, \"Romance\": false, \"Animation\": false, \"Adventure\": false, \"Music\": false, \"Fantasy\": false, \"Mystery\": false, \"Crime\": false, \"Film-Noir\": false, \"War\": false, \"Highlight\": true}, {\"Rank\": 84, \"Movie Name\": \"Indiana Jones and the Last Crusade\", \"Genre\": \"Action, Adventure\", \"Rating\": 8.2, \"Year\": 1989, \"Runtime in minutes\": 127, \"Western\": false, \"Drama\": false, \"Horror\": false, \"History\": false, \"Comedy\": false, \"Thriller\": false, \"Sci-Fi\": false, \"Biography\": false, \"Action\": true, \"Musical\": false, \"Romance\": false, \"Animation\": false, \"Adventure\": true, \"Music\": false, \"Fantasy\": false, \"Mystery\": false, \"Crime\": false, \"Film-Noir\": false, \"War\": false, \"Highlight\": true}, {\"Rank\": 85, \"Movie Name\": \"O Brother, Where Art Thou?\", \"Genre\": \"Adventure, Comedy, Crime\", \"Rating\": 7.7, \"Year\": 2000, \"Runtime in minutes\": 107, \"Western\": false, \"Drama\": false, \"Horror\": false, \"History\": false, \"Comedy\": true, \"Thriller\": false, \"Sci-Fi\": false, \"Biography\": false, \"Action\": false, \"Musical\": false, \"Romance\": false, \"Animation\": false, \"Adventure\": true, \"Music\": false, \"Fantasy\": false, \"Mystery\": false, \"Crime\": true, \"Film-Noir\": false, \"War\": false, \"Highlight\": true}, {\"Rank\": 86, \"Movie Name\": \"Inglourious Basterds\", \"Genre\": \"Adventure, Drama, War\", \"Rating\": 8.3, \"Year\": 2009, \"Runtime in minutes\": 153, \"Western\": false, \"Drama\": true, \"Horror\": false, \"History\": false, \"Comedy\": false, \"Thriller\": false, \"Sci-Fi\": false, \"Biography\": false, \"Action\": false, \"Musical\": false, \"Romance\": false, \"Animation\": false, \"Adventure\": true, \"Music\": false, \"Fantasy\": false, \"Mystery\": false, \"Crime\": false, \"Film-Noir\": false, \"War\": true, \"Highlight\": true}, {\"Rank\": 87, \"Movie Name\": \"The Departed\", \"Genre\": \"Crime, Drama, Thriller\", \"Rating\": 8.5, \"Year\": 2006, \"Runtime in minutes\": 151, \"Western\": false, \"Drama\": true, \"Horror\": false, \"History\": false, \"Comedy\": false, \"Thriller\": true, \"Sci-Fi\": false, \"Biography\": false, \"Action\": false, \"Musical\": false, \"Romance\": false, \"Animation\": false, \"Adventure\": false, \"Music\": false, \"Fantasy\": false, \"Mystery\": false, \"Crime\": true, \"Film-Noir\": false, \"War\": false, \"Highlight\": true}, {\"Rank\": 88, \"Movie Name\": \"A Beautiful Mind\", \"Genre\": \"Biography, Drama\", \"Rating\": 8.2, \"Year\": 2001, \"Runtime in minutes\": 135, \"Western\": false, \"Drama\": true, \"Horror\": false, \"History\": false, \"Comedy\": false, \"Thriller\": false, \"Sci-Fi\": false, \"Biography\": true, \"Action\": false, \"Musical\": false, \"Romance\": false, \"Animation\": false, \"Adventure\": false, \"Music\": false, \"Fantasy\": false, \"Mystery\": false, \"Crime\": false, \"Film-Noir\": false, \"War\": false, \"Highlight\": true}, {\"Rank\": 89, \"Movie Name\": \"District 9\", \"Genre\": \"Action, Sci-Fi, Thriller\", \"Rating\": 7.9, \"Year\": 2009, \"Runtime in minutes\": 112, \"Western\": false, \"Drama\": false, \"Horror\": false, \"History\": false, \"Comedy\": false, \"Thriller\": true, \"Sci-Fi\": true, \"Biography\": false, \"Action\": true, \"Musical\": false, \"Romance\": false, \"Animation\": false, \"Adventure\": false, \"Music\": false, \"Fantasy\": false, \"Mystery\": false, \"Crime\": false, \"Film-Noir\": false, \"War\": false, \"Highlight\": true}, {\"Rank\": 90, \"Movie Name\": \"The Piano\", \"Genre\": \"Drama, Music, Romance\", \"Rating\": 7.5, \"Year\": 1993, \"Runtime in minutes\": 121, \"Western\": false, \"Drama\": true, \"Horror\": false, \"History\": false, \"Comedy\": false, \"Thriller\": false, \"Sci-Fi\": false, \"Biography\": false, \"Action\": false, \"Musical\": false, \"Romance\": true, \"Animation\": false, \"Adventure\": false, \"Music\": true, \"Fantasy\": false, \"Mystery\": false, \"Crime\": false, \"Film-Noir\": false, \"War\": false, \"Highlight\": true}, {\"Rank\": 91, \"Movie Name\": \"Mystic River\", \"Genre\": \"Crime, Drama, Mystery\", \"Rating\": 7.9, \"Year\": 2003, \"Runtime in minutes\": 138, \"Western\": false, \"Drama\": true, \"Horror\": false, \"History\": false, \"Comedy\": false, \"Thriller\": false, \"Sci-Fi\": false, \"Biography\": false, \"Action\": false, \"Musical\": false, \"Romance\": false, \"Animation\": false, \"Adventure\": false, \"Music\": false, \"Fantasy\": false, \"Mystery\": true, \"Crime\": true, \"Film-Noir\": false, \"War\": false, \"Highlight\": true}, {\"Rank\": 92, \"Movie Name\": \"The Insider\", \"Genre\": \"Biography, Drama, Thriller\", \"Rating\": 7.8, \"Year\": 1999, \"Runtime in minutes\": 157, \"Western\": false, \"Drama\": true, \"Horror\": false, \"History\": false, \"Comedy\": false, \"Thriller\": true, \"Sci-Fi\": false, \"Biography\": true, \"Action\": false, \"Musical\": false, \"Romance\": false, \"Animation\": false, \"Adventure\": false, \"Music\": false, \"Fantasy\": false, \"Mystery\": false, \"Crime\": false, \"Film-Noir\": false, \"War\": false, \"Highlight\": true}, {\"Rank\": 93, \"Movie Name\": \"L.A. Confidential\", \"Genre\": \"Crime, Drama, Mystery\", \"Rating\": 8.2, \"Year\": 1997, \"Runtime in minutes\": 138, \"Western\": false, \"Drama\": true, \"Horror\": false, \"History\": false, \"Comedy\": false, \"Thriller\": false, \"Sci-Fi\": false, \"Biography\": false, \"Action\": false, \"Musical\": false, \"Romance\": false, \"Animation\": false, \"Adventure\": false, \"Music\": false, \"Fantasy\": false, \"Mystery\": true, \"Crime\": true, \"Film-Noir\": false, \"War\": false, \"Highlight\": true}, {\"Rank\": 94, \"Movie Name\": \"Heat\", \"Genre\": \"Action, Crime, Drama\", \"Rating\": 8.3, \"Year\": 1995, \"Runtime in minutes\": 170, \"Western\": false, \"Drama\": true, \"Horror\": false, \"History\": false, \"Comedy\": false, \"Thriller\": false, \"Sci-Fi\": false, \"Biography\": false, \"Action\": true, \"Musical\": false, \"Romance\": false, \"Animation\": false, \"Adventure\": false, \"Music\": false, \"Fantasy\": false, \"Mystery\": false, \"Crime\": true, \"Film-Noir\": false, \"War\": false, \"Highlight\": true}, {\"Rank\": 95, \"Movie Name\": \"The Usual Suspects\", \"Genre\": \"Crime, Drama, Mystery\", \"Rating\": 8.5, \"Year\": 1995, \"Runtime in minutes\": 106, \"Western\": false, \"Drama\": true, \"Horror\": false, \"History\": false, \"Comedy\": false, \"Thriller\": false, \"Sci-Fi\": false, \"Biography\": false, \"Action\": false, \"Musical\": false, \"Romance\": false, \"Animation\": false, \"Adventure\": false, \"Music\": false, \"Fantasy\": false, \"Mystery\": true, \"Crime\": true, \"Film-Noir\": false, \"War\": false, \"Highlight\": true}, {\"Rank\": 96, \"Movie Name\": \"Cool Hand Luke\", \"Genre\": \"Crime, Drama\", \"Rating\": 8.1, \"Year\": 1967, \"Runtime in minutes\": 127, \"Western\": false, \"Drama\": true, \"Horror\": false, \"History\": false, \"Comedy\": false, \"Thriller\": false, \"Sci-Fi\": false, \"Biography\": false, \"Action\": false, \"Musical\": false, \"Romance\": false, \"Animation\": false, \"Adventure\": false, \"Music\": false, \"Fantasy\": false, \"Mystery\": false, \"Crime\": true, \"Film-Noir\": false, \"War\": false, \"Highlight\": true}, {\"Rank\": 97, \"Movie Name\": \"Eternal Sunshine of the Spotless Mind\", \"Genre\": \"Drama, Romance, Sci-Fi\", \"Rating\": 8.3, \"Year\": 2004, \"Runtime in minutes\": 108, \"Western\": false, \"Drama\": true, \"Horror\": false, \"History\": false, \"Comedy\": false, \"Thriller\": false, \"Sci-Fi\": true, \"Biography\": false, \"Action\": false, \"Musical\": false, \"Romance\": true, \"Animation\": false, \"Adventure\": false, \"Music\": false, \"Fantasy\": false, \"Mystery\": false, \"Crime\": false, \"Film-Noir\": false, \"War\": false, \"Highlight\": true}, {\"Rank\": 98, \"Movie Name\": \"City Lights\", \"Genre\": \"Comedy, Drama, Romance\", \"Rating\": 8.5, \"Year\": 1931, \"Runtime in minutes\": 87, \"Western\": false, \"Drama\": true, \"Horror\": false, \"History\": false, \"Comedy\": true, \"Thriller\": false, \"Sci-Fi\": false, \"Biography\": false, \"Action\": false, \"Musical\": false, \"Romance\": true, \"Animation\": false, \"Adventure\": false, \"Music\": false, \"Fantasy\": false, \"Mystery\": false, \"Crime\": false, \"Film-Noir\": false, \"War\": false, \"Highlight\": true}, {\"Rank\": 99, \"Movie Name\": \"The Matrix\", \"Genre\": \"Action, Sci-Fi\", \"Rating\": 8.7, \"Year\": 1999, \"Runtime in minutes\": 136, \"Western\": false, \"Drama\": false, \"Horror\": false, \"History\": false, \"Comedy\": false, \"Thriller\": false, \"Sci-Fi\": true, \"Biography\": false, \"Action\": true, \"Musical\": false, \"Romance\": false, \"Animation\": false, \"Adventure\": false, \"Music\": false, \"Fantasy\": false, \"Mystery\": false, \"Crime\": false, \"Film-Noir\": false, \"War\": false, \"Highlight\": true}]}}, {\"mode\": \"vega-lite\"});\n",
       "</script>"
      ],
      "text/plain": [
       "alt.VConcatChart(...)"
      ]
     },
     "execution_count": 46,
     "metadata": {},
     "output_type": "execute_result"
    }
   ],
   "source": [
    "# The information we want to display on tooltips\n",
    "tooltip_cols = ['Movie Name', 'Rank', 'Genre', 'Year', 'Runtime in minutes', 'Rating',]\n",
    "\n",
    "# The selection mechanisms on the graphs\n",
    "brush = alt.selection(type='interval', resolve='global')\n",
    "# single = alt.selection_single()\n",
    "\n",
    "# The graph opacity condition for local selection (brush and click)\n",
    "# opacity = alt.condition(brush | single, alt.value(0.9), alt.value(0.1))\n",
    "opacity = alt.condition(brush, alt.value(0.9), alt.value(0.1))\n",
    "\n",
    "# The chart for scatter plot of the movies and their runtimes\n",
    "points = alt.Chart(movies).mark_point(filled=True).encode(\n",
    "    alt.X('Year:O',\n",
    "        scale=alt.Scale(zero=False, padding=8),\n",
    "        axis=alt.Axis(tickMinStep=1)\n",
    "    ),\n",
    "    alt.Y('Runtime in minutes',\n",
    "        scale=alt.Scale(zero=False, padding=25),\n",
    "    ),\n",
    "    tooltip=tooltip_cols,\n",
    "    color=alt.condition(\n",
    "        alt.datum['Highlight'],\n",
    "        'Rank',\n",
    "        alt.value('grey')\n",
    "    ),\n",
    "    size='Rating',\n",
    "    opacity=opacity\n",
    ").add_selection(\n",
    "    brush,\n",
    "#     single\n",
    ").properties(\n",
    "    width=chart_width,\n",
    "    height=chart_height.value\n",
    ")\n",
    "\n",
    "if selected_genres.value:\n",
    "    # Filtered chart for movies with stacked runtimes\n",
    "    bars = alt.Chart(filtered_movies).mark_bar().encode(\n",
    "        alt.X('Year',\n",
    "            scale=alt.Scale(padding=8),\n",
    "            axis=alt.Axis(tickMinStep=1)\n",
    "        ),\n",
    "        alt.Y('sum(Runtime in minutes)',\n",
    "#             scale=alt.Scale(padding=25)\n",
    "        ),\n",
    "        tooltip=tooltip_cols,\n",
    "        color=alt.Color('Rank:Q',\n",
    "            scale=alt.Scale(scheme='magma')\n",
    "        ),    \n",
    "        opacity=opacity,\n",
    "    ).add_selection(\n",
    "        brush,\n",
    "    #     single\n",
    "    ).properties(\n",
    "        width=chart_width,\n",
    "        height=chart_height.value\n",
    "    )\n",
    "\n",
    "# Vertically stack the two charts\n",
    "final = (points & bars) if selected_genres.value else points\n",
    "final.configure_axis(\n",
    "    labelFontSize=15,\n",
    "    titleFontSize=20,\n",
    ")"
   ]
  },
  {
   "cell_type": "code",
   "execution_count": 18,
   "id": "46bcc333",
   "metadata": {},
   "outputs": [
    {
     "data": {
      "text/html": [
       "<div>\n",
       "<style scoped>\n",
       "    .dataframe tbody tr th:only-of-type {\n",
       "        vertical-align: middle;\n",
       "    }\n",
       "\n",
       "    .dataframe tbody tr th {\n",
       "        vertical-align: top;\n",
       "    }\n",
       "\n",
       "    .dataframe thead th {\n",
       "        text-align: right;\n",
       "    }\n",
       "</style>\n",
       "<table border=\"1\" class=\"dataframe\">\n",
       "  <thead>\n",
       "    <tr style=\"text-align: right;\">\n",
       "      <th></th>\n",
       "      <th>Movie Name</th>\n",
       "      <th>Genre</th>\n",
       "      <th>Year</th>\n",
       "      <th>Runtime in minutes</th>\n",
       "      <th>Rating</th>\n",
       "    </tr>\n",
       "    <tr>\n",
       "      <th>Rank</th>\n",
       "      <th></th>\n",
       "      <th></th>\n",
       "      <th></th>\n",
       "      <th></th>\n",
       "      <th></th>\n",
       "    </tr>\n",
       "  </thead>\n",
       "  <tbody>\n",
       "    <tr>\n",
       "      <th>1</th>\n",
       "      <td>The Godfather</td>\n",
       "      <td>Crime, Drama</td>\n",
       "      <td>1972</td>\n",
       "      <td>175</td>\n",
       "      <td>9.2</td>\n",
       "    </tr>\n",
       "    <tr>\n",
       "      <th>2</th>\n",
       "      <td>The Silence of the Lambs</td>\n",
       "      <td>Crime, Drama, Thriller</td>\n",
       "      <td>1991</td>\n",
       "      <td>118</td>\n",
       "      <td>8.6</td>\n",
       "    </tr>\n",
       "    <tr>\n",
       "      <th>3</th>\n",
       "      <td>Star Wars: Episode V - The Empire Strikes Back</td>\n",
       "      <td>Action, Adventure, Fantasy</td>\n",
       "      <td>1980</td>\n",
       "      <td>124</td>\n",
       "      <td>8.7</td>\n",
       "    </tr>\n",
       "    <tr>\n",
       "      <th>4</th>\n",
       "      <td>The Shawshank Redemption</td>\n",
       "      <td>Drama</td>\n",
       "      <td>1994</td>\n",
       "      <td>142</td>\n",
       "      <td>9.3</td>\n",
       "    </tr>\n",
       "    <tr>\n",
       "      <th>5</th>\n",
       "      <td>The Shining</td>\n",
       "      <td>Drama, Horror</td>\n",
       "      <td>1980</td>\n",
       "      <td>146</td>\n",
       "      <td>8.4</td>\n",
       "    </tr>\n",
       "    <tr>\n",
       "      <th>...</th>\n",
       "      <td>...</td>\n",
       "      <td>...</td>\n",
       "      <td>...</td>\n",
       "      <td>...</td>\n",
       "      <td>...</td>\n",
       "    </tr>\n",
       "    <tr>\n",
       "      <th>95</th>\n",
       "      <td>The Usual Suspects</td>\n",
       "      <td>Crime, Drama, Mystery</td>\n",
       "      <td>1995</td>\n",
       "      <td>106</td>\n",
       "      <td>8.5</td>\n",
       "    </tr>\n",
       "    <tr>\n",
       "      <th>96</th>\n",
       "      <td>Cool Hand Luke</td>\n",
       "      <td>Crime, Drama</td>\n",
       "      <td>1967</td>\n",
       "      <td>127</td>\n",
       "      <td>8.1</td>\n",
       "    </tr>\n",
       "    <tr>\n",
       "      <th>97</th>\n",
       "      <td>Eternal Sunshine of the Spotless Mind</td>\n",
       "      <td>Drama, Romance, Sci-Fi</td>\n",
       "      <td>2004</td>\n",
       "      <td>108</td>\n",
       "      <td>8.3</td>\n",
       "    </tr>\n",
       "    <tr>\n",
       "      <th>98</th>\n",
       "      <td>City Lights</td>\n",
       "      <td>Comedy, Drama, Romance</td>\n",
       "      <td>1931</td>\n",
       "      <td>87</td>\n",
       "      <td>8.5</td>\n",
       "    </tr>\n",
       "    <tr>\n",
       "      <th>99</th>\n",
       "      <td>The Matrix</td>\n",
       "      <td>Action, Sci-Fi</td>\n",
       "      <td>1999</td>\n",
       "      <td>136</td>\n",
       "      <td>8.7</td>\n",
       "    </tr>\n",
       "  </tbody>\n",
       "</table>\n",
       "<p>99 rows × 5 columns</p>\n",
       "</div>"
      ],
      "text/plain": [
       "                                          Movie Name  \\\n",
       "Rank                                                   \n",
       "1                                      The Godfather   \n",
       "2                           The Silence of the Lambs   \n",
       "3     Star Wars: Episode V - The Empire Strikes Back   \n",
       "4                           The Shawshank Redemption   \n",
       "5                                        The Shining   \n",
       "...                                              ...   \n",
       "95                                The Usual Suspects   \n",
       "96                                    Cool Hand Luke   \n",
       "97             Eternal Sunshine of the Spotless Mind   \n",
       "98                                       City Lights   \n",
       "99                                        The Matrix   \n",
       "\n",
       "                           Genre  Year  Runtime in minutes  Rating  \n",
       "Rank                                                                \n",
       "1                   Crime, Drama  1972                 175     9.2  \n",
       "2         Crime, Drama, Thriller  1991                 118     8.6  \n",
       "3     Action, Adventure, Fantasy  1980                 124     8.7  \n",
       "4                          Drama  1994                 142     9.3  \n",
       "5                  Drama, Horror  1980                 146     8.4  \n",
       "...                          ...   ...                 ...     ...  \n",
       "95         Crime, Drama, Mystery  1995                 106     8.5  \n",
       "96                  Crime, Drama  1967                 127     8.1  \n",
       "97        Drama, Romance, Sci-Fi  2004                 108     8.3  \n",
       "98        Comedy, Drama, Romance  1931                  87     8.5  \n",
       "99                Action, Sci-Fi  1999                 136     8.7  \n",
       "\n",
       "[99 rows x 5 columns]"
      ]
     },
     "execution_count": 18,
     "metadata": {},
     "output_type": "execute_result"
    }
   ],
   "source": [
    "# Display the filtered table of movies\n",
    "if selected_genres.value:\n",
    "    display_movies = filtered_movies.set_index('Rank')\n",
    "display_movies[['Movie Name', 'Genre', 'Year', 'Runtime in minutes', 'Rating']] if selected_genres.value else None"
   ]
  },
  {
   "cell_type": "markdown",
   "id": "319530c2",
   "metadata": {},
   "source": [
    "Made with ❤️ by Group 18.\n",
    "\n",
    "February 2023"
   ]
  }
 ],
 "metadata": {
  "kernelspec": {
   "display_name": "Python 3 (ipykernel)",
   "language": "python",
   "name": "python3"
  },
  "language_info": {
   "codemirror_mode": {
    "name": "ipython",
    "version": 3
   },
   "file_extension": ".py",
   "mimetype": "text/x-python",
   "name": "python",
   "nbconvert_exporter": "python",
   "pygments_lexer": "ipython3",
   "version": "3.10.9"
  }
 },
 "nbformat": 4,
 "nbformat_minor": 5
}
