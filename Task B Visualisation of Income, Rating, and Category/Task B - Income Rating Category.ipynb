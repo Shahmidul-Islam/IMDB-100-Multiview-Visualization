{
 "cells": [
  {
   "cell_type": "markdown",
   "id": "a7754cdc",
   "metadata": {},
   "source": [
    "# Task B: Visualisation of Income, Rating, and Category\n",
    "\n",
    "The top 99 highest rated IMDB movies are visualised in this demonstration. We display how the rating of the movies varies depending upon the income of the movie, how may movies from this list were released in the year, and also allow the user to filter the movies based on the categories.\n",
    "\n",
    "## Instructions\n",
    "\n",
    "1. All the categories are enabled by default. You can remove those you are not interested in and the plots will reflect your choice. Use the sidebar on the left for this.\n",
    "2. There is also a slider that changes the height of the charts.\n",
    "3. Hovering over the points will show related information on tooltips.\n",
    "4. The scatter plot allows rectangular selection and the bar chart allows interval selection. The brushes selectively highlight on both plots. The selection area can be moved around by dragging. The size can be changed by scrolling on the selected area.\n",
    "5. Click outside the selection area to deselect and reset the plot."
   ]
  },
  {
   "cell_type": "code",
   "execution_count": 1,
   "id": "08068c51",
   "metadata": {},
   "outputs": [],
   "source": [
    "%%capture\n",
    "# Code comments are not visible to the end-user\n",
    "# !pip install altair\n",
    "# !pip install mercury\n",
    "# !pip install pandas"
   ]
  },
  {
   "cell_type": "code",
   "execution_count": 2,
   "id": "6445dbc2",
   "metadata": {
    "scrolled": true
   },
   "outputs": [],
   "source": [
    "# Import the necessary packages\n",
    "import altair as alt  # For interactive and custom visuals\n",
    "import pandas as pd   # For working with the dataset\n",
    "import mercury as mr  # For additional input and filtering capabilities"
   ]
  },
  {
   "cell_type": "code",
   "execution_count": 3,
   "id": "d2db0f83",
   "metadata": {},
   "outputs": [],
   "source": [
    "# We load in the data set from the CSV file\n",
    "movies = pd.read_csv('data/imdb100/movies.csv')\n",
    "# movies.dtypes"
   ]
  },
  {
   "cell_type": "code",
   "execution_count": 4,
   "id": "bb07f743",
   "metadata": {},
   "outputs": [],
   "source": [
    "def clean_income(income):\n",
    "    \"\"\"\n",
    "    Removes the parentheses and returns only the year integer value\n",
    "    \"\"\"\n",
    "    if(isinstance(income, float)):\n",
    "        income = '$0.0M'\n",
    "    return income[1:-1]"
   ]
  },
  {
   "cell_type": "code",
   "execution_count": 5,
   "id": "3fe4740e",
   "metadata": {},
   "outputs": [],
   "source": [
    "# Assign the cleaned gross amount to a new column\n",
    "movies['Income (MUSD)'] = movies['gross_total'].apply(clean_income)\n",
    "# movies['Income (MUSD)'] = movies['Income (MUSD)'].astype(float)\n",
    "# movies.dtypes"
   ]
  },
  {
   "cell_type": "code",
   "execution_count": 6,
   "id": "8d315bc5",
   "metadata": {},
   "outputs": [],
   "source": [
    "# Remove the extra columns\n",
    "movies.drop(columns=[\n",
    "    'votes', 'gross_total', 'year_of_release', 'run_time', 'genre', \n",
    "], inplace=True)\n",
    "\n",
    "# Rename the rest of the columns to cleaner names\n",
    "movies.rename(columns={\n",
    "    'index': 'Rank', 'movie_name': 'Movie Name', 'category': 'Category', 'imdb_rating': 'Rating'\n",
    "}, inplace=True)\n",
    "\n",
    "# Assign types for easier type inference\n",
    "movies = movies.astype({\n",
    "    'Rank': 'int',\n",
    "    'Movie Name': 'string',\n",
    "    'Category': 'string',\n",
    "    'Income (MUSD)': 'float',\n",
    "    'Rating': 'float'\n",
    "})\n",
    "# movies.dtypes"
   ]
  },
  {
   "cell_type": "code",
   "execution_count": 7,
   "id": "c10593ad",
   "metadata": {},
   "outputs": [],
   "source": [
    "# Extract all individual categories present in the Category column values\n",
    "categories = list(set(movies['Category']))\n",
    "# categories"
   ]
  },
  {
   "cell_type": "code",
   "execution_count": 8,
   "id": "de24767f",
   "metadata": {},
   "outputs": [],
   "source": [
    "def apply_category(text, category):\n",
    "    return category == text\n",
    "\n",
    "# Create one-hot encoding for genres\n",
    "for category in categories:\n",
    "    movies[category] = movies['Category'].apply(apply_category, category=category)\n",
    "\n",
    "# movies.head(20)"
   ]
  },
  {
   "cell_type": "code",
   "execution_count": 9,
   "id": "513cabb7",
   "metadata": {},
   "outputs": [
    {
     "data": {
      "application/mercury+json": "{\n    \"widget\": \"App\",\n    \"title\": \"\",\n    \"description\": \"A visualisation with interactive plots showing the relationship between income, rating, and category.\",\n    \"show_code\": false,\n    \"show_prompt\": false,\n    \"share\": \"public\",\n    \"output\": \"app\",\n    \"schedule\": \"\",\n    \"notify\": \"{}\",\n    \"continuous_update\": true,\n    \"static_notebook\": false,\n    \"show_sidebar\": true,\n    \"full_screen\": true,\n    \"allow_download\": false,\n    \"model_id\": \"mercury-app\",\n    \"code_uid\": \"App.0.40.25.1-rand09701d12\"\n}",
      "text/html": [
       "<h3>Mercury Application</h3><small>This output won't appear in the web app.</small>"
      ],
      "text/plain": [
       "mercury.App"
      ]
     },
     "metadata": {},
     "output_type": "display_data"
    }
   ],
   "source": [
    "app = mr.App(\n",
    "    description=\"A visualisation with interactive plots showing the relationship between income, rating, and category.\",\n",
    "    show_code=False,\n",
    "    show_prompt=False,\n",
    "    continuous_update=True,\n",
    "    static_notebook=False,\n",
    "    show_sidebar=True,\n",
    "    full_screen=True,\n",
    "    allow_download=False,\n",
    ")"
   ]
  },
  {
   "cell_type": "code",
   "execution_count": 10,
   "id": "f1df19f8",
   "metadata": {},
   "outputs": [
    {
     "data": {
      "application/mercury+json": "{\n    \"widget\": \"Slider\",\n    \"value\": 450,\n    \"min\": 450,\n    \"max\": 700,\n    \"step\": 20,\n    \"label\": \"Chart height\",\n    \"model_id\": \"0a5d9dfdc4cd4eb9a8e7260d1e3a4ee7\",\n    \"code_uid\": \"Slider.0.40.16.2-rand67ccc728\"\n}",
      "application/vnd.jupyter.widget-view+json": {
       "model_id": "0a5d9dfdc4cd4eb9a8e7260d1e3a4ee7",
       "version_major": 2,
       "version_minor": 0
      },
      "text/plain": [
       "mercury.Slider"
      ]
     },
     "metadata": {},
     "output_type": "display_data"
    }
   ],
   "source": [
    "# Chart configuration parameters\n",
    "chart_height = mr.Slider(value=450, min=450, max=700, label=\"Chart height\", step=20)\n",
    "chart_width = 750"
   ]
  },
  {
   "cell_type": "code",
   "execution_count": 11,
   "id": "8e6f5826",
   "metadata": {},
   "outputs": [
    {
     "data": {
      "application/mercury+json": "{\n    \"widget\": \"MultiSelect\",\n    \"value\": [\n        \"G\",\n        \"R\",\n        \"Approved\",\n        \"PG-13\",\n        \"PG\",\n        \"Passed\",\n        \"GP\"\n    ],\n    \"choices\": [\n        \"G\",\n        \"R\",\n        \"Approved\",\n        \"PG-13\",\n        \"PG\",\n        \"Passed\",\n        \"GP\"\n    ],\n    \"label\": \"Select category(s)\",\n    \"model_id\": \"5acc759e328a47fcaa962d56f43cce9b\",\n    \"code_uid\": \"MultiSelect.0.40.14.2-rand9f08001b\"\n}",
      "application/vnd.jupyter.widget-view+json": {
       "model_id": "5acc759e328a47fcaa962d56f43cce9b",
       "version_major": 2,
       "version_minor": 0
      },
      "text/plain": [
       "mercury.MultiSelect"
      ]
     },
     "metadata": {},
     "output_type": "display_data"
    }
   ],
   "source": [
    "# Category filtering multi-selection tool\n",
    "selected_categories = mr.MultiSelect(label=\"Select category(s)\", value=list(categories), choices=list(categories))"
   ]
  },
  {
   "cell_type": "code",
   "execution_count": 12,
   "id": "ab8fc7a4",
   "metadata": {},
   "outputs": [],
   "source": [
    "# selected_categories.value"
   ]
  },
  {
   "cell_type": "code",
   "execution_count": 13,
   "id": "5013b662",
   "metadata": {
    "scrolled": true
   },
   "outputs": [],
   "source": [
    "# Filter based on the categories\n",
    "indices = movies['Rank'] > 100\n",
    "for g in selected_categories.value:\n",
    "    indices |= movies[g]\n",
    "movies['Highlight'] = False\n",
    "movies.loc[indices, 'Highlight'] = True\n",
    "# movies.head(20)"
   ]
  },
  {
   "cell_type": "code",
   "execution_count": 14,
   "id": "9a8b0953",
   "metadata": {},
   "outputs": [],
   "source": [
    "# We retain a filtered version based on the selected genres.\n",
    "filtered_movies = movies[movies['Highlight']]\n",
    "# filtered_movies"
   ]
  },
  {
   "cell_type": "code",
   "execution_count": 15,
   "id": "66af8c7e",
   "metadata": {
    "scrolled": true
   },
   "outputs": [
    {
     "data": {
      "text/html": [
       "\n",
       "<div id=\"altair-viz-7236a02673884a5eb8fa29fa589d8334\"></div>\n",
       "<script type=\"text/javascript\">\n",
       "  var VEGA_DEBUG = (typeof VEGA_DEBUG == \"undefined\") ? {} : VEGA_DEBUG;\n",
       "  (function(spec, embedOpt){\n",
       "    let outputDiv = document.currentScript.previousElementSibling;\n",
       "    if (outputDiv.id !== \"altair-viz-7236a02673884a5eb8fa29fa589d8334\") {\n",
       "      outputDiv = document.getElementById(\"altair-viz-7236a02673884a5eb8fa29fa589d8334\");\n",
       "    }\n",
       "    const paths = {\n",
       "      \"vega\": \"https://cdn.jsdelivr.net/npm//vega@5?noext\",\n",
       "      \"vega-lib\": \"https://cdn.jsdelivr.net/npm//vega-lib?noext\",\n",
       "      \"vega-lite\": \"https://cdn.jsdelivr.net/npm//vega-lite@4.17.0?noext\",\n",
       "      \"vega-embed\": \"https://cdn.jsdelivr.net/npm//vega-embed@6?noext\",\n",
       "    };\n",
       "\n",
       "    function maybeLoadScript(lib, version) {\n",
       "      var key = `${lib.replace(\"-\", \"\")}_version`;\n",
       "      return (VEGA_DEBUG[key] == version) ?\n",
       "        Promise.resolve(paths[lib]) :\n",
       "        new Promise(function(resolve, reject) {\n",
       "          var s = document.createElement('script');\n",
       "          document.getElementsByTagName(\"head\")[0].appendChild(s);\n",
       "          s.async = true;\n",
       "          s.onload = () => {\n",
       "            VEGA_DEBUG[key] = version;\n",
       "            return resolve(paths[lib]);\n",
       "          };\n",
       "          s.onerror = () => reject(`Error loading script: ${paths[lib]}`);\n",
       "          s.src = paths[lib];\n",
       "        });\n",
       "    }\n",
       "\n",
       "    function showError(err) {\n",
       "      outputDiv.innerHTML = `<div class=\"error\" style=\"color:red;\">${err}</div>`;\n",
       "      throw err;\n",
       "    }\n",
       "\n",
       "    function displayChart(vegaEmbed) {\n",
       "      vegaEmbed(outputDiv, spec, embedOpt)\n",
       "        .catch(err => showError(`Javascript Error: ${err.message}<br>This usually means there's a typo in your chart specification. See the javascript console for the full traceback.`));\n",
       "    }\n",
       "\n",
       "    if(typeof define === \"function\" && define.amd) {\n",
       "      requirejs.config({paths});\n",
       "      require([\"vega-embed\"], displayChart, err => showError(`Error loading script: ${err.message}`));\n",
       "    } else {\n",
       "      maybeLoadScript(\"vega\", \"5\")\n",
       "        .then(() => maybeLoadScript(\"vega-lite\", \"4.17.0\"))\n",
       "        .then(() => maybeLoadScript(\"vega-embed\", \"6\"))\n",
       "        .catch(showError)\n",
       "        .then(() => displayChart(vegaEmbed));\n",
       "    }\n",
       "  })({\"config\": {\"view\": {\"continuousWidth\": 400, \"continuousHeight\": 300}, \"axis\": {\"labelFontSize\": 10, \"titleFontSize\": 20}}, \"vconcat\": [{\"layer\": [{\"mark\": {\"type\": \"point\", \"filled\": true}, \"encoding\": {\"color\": {\"condition\": {\"field\": \"Rank\", \"scale\": {\"scheme\": \"yellowgreenblue\"}, \"type\": \"quantitative\", \"test\": \"datum['Highlight']\"}, \"value\": \"grey\"}, \"opacity\": {\"condition\": {\"value\": 0.9, \"selection\": \"selector001\"}, \"value\": 0.1}, \"size\": {\"field\": \"Rating\", \"type\": \"quantitative\"}, \"tooltip\": [{\"field\": \"Movie Name\", \"type\": \"nominal\"}, {\"field\": \"Rank\", \"type\": \"quantitative\"}, {\"field\": \"Category\", \"type\": \"nominal\"}, {\"field\": \"Rating\", \"type\": \"quantitative\"}, {\"field\": \"Income (MUSD)\", \"type\": \"quantitative\"}], \"x\": {\"field\": \"Rating\", \"scale\": {\"padding\": 8, \"zero\": false}, \"type\": \"quantitative\"}, \"y\": {\"field\": \"Income (MUSD)\", \"scale\": {\"padding\": 25, \"zero\": false}, \"type\": \"quantitative\"}}, \"height\": 450, \"selection\": {\"selector001\": {\"type\": \"interval\", \"encodings\": [\"x\"]}}, \"width\": 750}, {\"mark\": {\"type\": \"rule\", \"color\": \"firebrick\"}, \"encoding\": {\"size\": {\"value\": 3}, \"y\": {\"aggregate\": \"mean\", \"field\": \"Income (MUSD)\", \"type\": \"quantitative\"}}, \"height\": 450, \"transform\": [{\"filter\": {\"selection\": \"selector001\"}}], \"width\": 750}], \"data\": {\"name\": \"data-7e413ada84451a3617eceda69b4eee5d\"}}, {\"data\": {\"name\": \"data-7e413ada84451a3617eceda69b4eee5d\"}, \"mark\": \"line\", \"encoding\": {\"color\": {\"value\": \"purple\"}, \"opacity\": {\"condition\": {\"value\": 0.9, \"selection\": \"selector001\"}, \"value\": 0.1}, \"x\": {\"field\": \"Rating\", \"scale\": {\"padding\": 8}, \"type\": \"quantitative\"}, \"y\": {\"aggregate\": \"mean\", \"field\": \"Income (MUSD)\", \"type\": \"quantitative\"}}, \"height\": 450, \"selection\": {\"selector001\": {\"type\": \"interval\", \"encodings\": [\"x\"]}}, \"width\": 750}], \"$schema\": \"https://vega.github.io/schema/vega-lite/v4.17.0.json\", \"datasets\": {\"data-7e413ada84451a3617eceda69b4eee5d\": [{\"Rank\": 1, \"Movie Name\": \"The Godfather\", \"Category\": \"R\", \"Rating\": 9.2, \"Income (MUSD)\": 134.97, \"G\": false, \"R\": true, \"Approved\": false, \"PG-13\": false, \"PG\": false, \"Passed\": false, \"GP\": false, \"Highlight\": true}, {\"Rank\": 2, \"Movie Name\": \"The Silence of the Lambs\", \"Category\": \"R\", \"Rating\": 8.6, \"Income (MUSD)\": 130.74, \"G\": false, \"R\": true, \"Approved\": false, \"PG-13\": false, \"PG\": false, \"Passed\": false, \"GP\": false, \"Highlight\": true}, {\"Rank\": 3, \"Movie Name\": \"Star Wars: Episode V - The Empire Strikes Back\", \"Category\": \"PG\", \"Rating\": 8.7, \"Income (MUSD)\": 290.48, \"G\": false, \"R\": false, \"Approved\": false, \"PG-13\": false, \"PG\": true, \"Passed\": false, \"GP\": false, \"Highlight\": true}, {\"Rank\": 4, \"Movie Name\": \"The Shawshank Redemption\", \"Category\": \"R\", \"Rating\": 9.3, \"Income (MUSD)\": 28.34, \"G\": false, \"R\": true, \"Approved\": false, \"PG-13\": false, \"PG\": false, \"Passed\": false, \"GP\": false, \"Highlight\": true}, {\"Rank\": 5, \"Movie Name\": \"The Shining\", \"Category\": \"R\", \"Rating\": 8.4, \"Income (MUSD)\": 44.02, \"G\": false, \"R\": true, \"Approved\": false, \"PG-13\": false, \"PG\": false, \"Passed\": false, \"GP\": false, \"Highlight\": true}, {\"Rank\": 6, \"Movie Name\": \"Casablanca\", \"Category\": \"PG\", \"Rating\": 8.5, \"Income (MUSD)\": 1.02, \"G\": false, \"R\": false, \"Approved\": false, \"PG-13\": false, \"PG\": true, \"Passed\": false, \"GP\": false, \"Highlight\": true}, {\"Rank\": 7, \"Movie Name\": \"One Flew Over the Cuckoo's Nest\", \"Category\": \"R\", \"Rating\": 8.7, \"Income (MUSD)\": 112.0, \"G\": false, \"R\": true, \"Approved\": false, \"PG-13\": false, \"PG\": false, \"Passed\": false, \"GP\": false, \"Highlight\": true}, {\"Rank\": 8, \"Movie Name\": \"Indiana Jones and the Raiders of the Lost Ark\", \"Category\": \"PG\", \"Rating\": 8.4, \"Income (MUSD)\": 248.16, \"G\": false, \"R\": false, \"Approved\": false, \"PG-13\": false, \"PG\": true, \"Passed\": false, \"GP\": false, \"Highlight\": true}, {\"Rank\": 9, \"Movie Name\": \"The Lord of the Rings: The Return of the King\", \"Category\": \"PG-13\", \"Rating\": 9.0, \"Income (MUSD)\": 377.85, \"G\": false, \"R\": false, \"Approved\": false, \"PG-13\": true, \"PG\": false, \"Passed\": false, \"GP\": false, \"Highlight\": true}, {\"Rank\": 10, \"Movie Name\": \"Star Wars: Episode IV - A New Hope\", \"Category\": \"PG\", \"Rating\": 8.6, \"Income (MUSD)\": 322.74, \"G\": false, \"R\": false, \"Approved\": false, \"PG-13\": false, \"PG\": true, \"Passed\": false, \"GP\": false, \"Highlight\": true}, {\"Rank\": 11, \"Movie Name\": \"The Dark Knight\", \"Category\": \"PG-13\", \"Rating\": 9.0, \"Income (MUSD)\": 534.86, \"G\": false, \"R\": false, \"Approved\": false, \"PG-13\": true, \"PG\": false, \"Passed\": false, \"GP\": false, \"Highlight\": true}, {\"Rank\": 12, \"Movie Name\": \"The Godfather: Part II\", \"Category\": \"R\", \"Rating\": 9.0, \"Income (MUSD)\": 57.3, \"G\": false, \"R\": true, \"Approved\": false, \"PG-13\": false, \"PG\": false, \"Passed\": false, \"GP\": false, \"Highlight\": true}, {\"Rank\": 13, \"Movie Name\": \"Aliens\", \"Category\": \"R\", \"Rating\": 8.4, \"Income (MUSD)\": 85.16, \"G\": false, \"R\": true, \"Approved\": false, \"PG-13\": false, \"PG\": false, \"Passed\": false, \"GP\": false, \"Highlight\": true}, {\"Rank\": 14, \"Movie Name\": \"Schindler's List\", \"Category\": \"R\", \"Rating\": 9.0, \"Income (MUSD)\": 96.9, \"G\": false, \"R\": true, \"Approved\": false, \"PG-13\": false, \"PG\": false, \"Passed\": false, \"GP\": false, \"Highlight\": true}, {\"Rank\": 15, \"Movie Name\": \"Inception\", \"Category\": \"PG-13\", \"Rating\": 8.8, \"Income (MUSD)\": 292.58, \"G\": false, \"R\": false, \"Approved\": false, \"PG-13\": true, \"PG\": false, \"Passed\": false, \"GP\": false, \"Highlight\": true}, {\"Rank\": 16, \"Movie Name\": \"The Lord of the Rings: The Fellowship of the Ring\", \"Category\": \"PG-13\", \"Rating\": 8.8, \"Income (MUSD)\": 315.54, \"G\": false, \"R\": false, \"Approved\": false, \"PG-13\": true, \"PG\": false, \"Passed\": false, \"GP\": false, \"Highlight\": true}, {\"Rank\": 17, \"Movie Name\": \"Alien\", \"Category\": \"R\", \"Rating\": 8.5, \"Income (MUSD)\": 78.9, \"G\": false, \"R\": true, \"Approved\": false, \"PG-13\": false, \"PG\": false, \"Passed\": false, \"GP\": false, \"Highlight\": true}, {\"Rank\": 18, \"Movie Name\": \"Some Like It Hot\", \"Category\": \"Passed\", \"Rating\": 8.2, \"Income (MUSD)\": 25.0, \"G\": false, \"R\": false, \"Approved\": false, \"PG-13\": false, \"PG\": false, \"Passed\": true, \"GP\": false, \"Highlight\": true}, {\"Rank\": 19, \"Movie Name\": \"Blade Runner\", \"Category\": \"R\", \"Rating\": 8.1, \"Income (MUSD)\": 32.87, \"G\": false, \"R\": true, \"Approved\": false, \"PG-13\": false, \"PG\": false, \"Passed\": false, \"GP\": false, \"Highlight\": true}, {\"Rank\": 20, \"Movie Name\": \"Se7en\", \"Category\": \"R\", \"Rating\": 8.6, \"Income (MUSD)\": 100.13, \"G\": false, \"R\": true, \"Approved\": false, \"PG-13\": false, \"PG\": false, \"Passed\": false, \"GP\": false, \"Highlight\": true}, {\"Rank\": 21, \"Movie Name\": \"Apocalypse Now\", \"Category\": \"R\", \"Rating\": 8.5, \"Income (MUSD)\": 83.47, \"G\": false, \"R\": true, \"Approved\": false, \"PG-13\": false, \"PG\": false, \"Passed\": false, \"GP\": false, \"Highlight\": true}, {\"Rank\": 22, \"Movie Name\": \"12 Angry Men\", \"Category\": \"Approved\", \"Rating\": 9.0, \"Income (MUSD)\": 4.36, \"G\": false, \"R\": false, \"Approved\": true, \"PG-13\": false, \"PG\": false, \"Passed\": false, \"GP\": false, \"Highlight\": true}, {\"Rank\": 23, \"Movie Name\": \"The Lord of the Rings: The Two Towers\", \"Category\": \"PG-13\", \"Rating\": 8.8, \"Income (MUSD)\": 342.55, \"G\": false, \"R\": false, \"Approved\": false, \"PG-13\": true, \"PG\": false, \"Passed\": false, \"GP\": false, \"Highlight\": true}, {\"Rank\": 24, \"Movie Name\": \"Terminator 2: Judgment Day\", \"Category\": \"R\", \"Rating\": 8.6, \"Income (MUSD)\": 204.84, \"G\": false, \"R\": true, \"Approved\": false, \"PG-13\": false, \"PG\": false, \"Passed\": false, \"GP\": false, \"Highlight\": true}, {\"Rank\": 25, \"Movie Name\": \"Star Wars: Episode VI - Return of the Jedi\", \"Category\": \"PG\", \"Rating\": 8.3, \"Income (MUSD)\": 309.13, \"G\": false, \"R\": false, \"Approved\": false, \"PG-13\": false, \"PG\": true, \"Passed\": false, \"GP\": false, \"Highlight\": true}, {\"Rank\": 26, \"Movie Name\": \"Die Hard\", \"Category\": \"R\", \"Rating\": 8.2, \"Income (MUSD)\": 83.01, \"G\": false, \"R\": true, \"Approved\": false, \"PG-13\": false, \"PG\": false, \"Passed\": false, \"GP\": false, \"Highlight\": true}, {\"Rank\": 27, \"Movie Name\": \"Gone with the Wind\", \"Category\": \"Passed\", \"Rating\": 8.2, \"Income (MUSD)\": 198.68, \"G\": false, \"R\": false, \"Approved\": false, \"PG-13\": false, \"PG\": false, \"Passed\": true, \"GP\": false, \"Highlight\": true}, {\"Rank\": 28, \"Movie Name\": \"Taxi Driver\", \"Category\": \"R\", \"Rating\": 8.2, \"Income (MUSD)\": 28.26, \"G\": false, \"R\": true, \"Approved\": false, \"PG-13\": false, \"PG\": false, \"Passed\": false, \"GP\": false, \"Highlight\": true}, {\"Rank\": 29, \"Movie Name\": \"Pulp Fiction\", \"Category\": \"R\", \"Rating\": 8.9, \"Income (MUSD)\": 107.93, \"G\": false, \"R\": true, \"Approved\": false, \"PG-13\": false, \"PG\": false, \"Passed\": false, \"GP\": false, \"Highlight\": true}, {\"Rank\": 30, \"Movie Name\": \"The Bridge on the River Kwai\", \"Category\": \"PG\", \"Rating\": 8.2, \"Income (MUSD)\": 44.91, \"G\": false, \"R\": false, \"Approved\": false, \"PG-13\": false, \"PG\": true, \"Passed\": false, \"GP\": false, \"Highlight\": true}, {\"Rank\": 31, \"Movie Name\": \"The Lion King\", \"Category\": \"G\", \"Rating\": 8.5, \"Income (MUSD)\": 422.78, \"G\": true, \"R\": false, \"Approved\": false, \"PG-13\": false, \"PG\": false, \"Passed\": false, \"GP\": false, \"Highlight\": true}, {\"Rank\": 32, \"Movie Name\": \"North by Northwest\", \"Category\": \"Approved\", \"Rating\": 8.3, \"Income (MUSD)\": 13.28, \"G\": false, \"R\": false, \"Approved\": true, \"PG-13\": false, \"PG\": false, \"Passed\": false, \"GP\": false, \"Highlight\": true}, {\"Rank\": 33, \"Movie Name\": \"Rear Window\", \"Category\": \"PG\", \"Rating\": 8.5, \"Income (MUSD)\": 36.76, \"G\": false, \"R\": false, \"Approved\": false, \"PG-13\": false, \"PG\": true, \"Passed\": false, \"GP\": false, \"Highlight\": true}, {\"Rank\": 34, \"Movie Name\": \"L\\u00e9on: The Professional\", \"Category\": \"R\", \"Rating\": 8.5, \"Income (MUSD)\": 19.5, \"G\": false, \"R\": true, \"Approved\": false, \"PG-13\": false, \"PG\": false, \"Passed\": false, \"GP\": false, \"Highlight\": true}, {\"Rank\": 35, \"Movie Name\": \"Back to the Future\", \"Category\": \"PG\", \"Rating\": 8.5, \"Income (MUSD)\": 210.61, \"G\": false, \"R\": false, \"Approved\": false, \"PG-13\": false, \"PG\": true, \"Passed\": false, \"GP\": false, \"Highlight\": true}, {\"Rank\": 36, \"Movie Name\": \"Citizen Kane\", \"Category\": \"PG\", \"Rating\": 8.3, \"Income (MUSD)\": 1.59, \"G\": false, \"R\": false, \"Approved\": false, \"PG-13\": false, \"PG\": true, \"Passed\": false, \"GP\": false, \"Highlight\": true}, {\"Rank\": 37, \"Movie Name\": \"Goodfellas\", \"Category\": \"R\", \"Rating\": 8.7, \"Income (MUSD)\": 46.84, \"G\": false, \"R\": true, \"Approved\": false, \"PG-13\": false, \"PG\": false, \"Passed\": false, \"GP\": false, \"Highlight\": true}, {\"Rank\": 38, \"Movie Name\": \"Memento\", \"Category\": \"R\", \"Rating\": 8.4, \"Income (MUSD)\": 25.54, \"G\": false, \"R\": true, \"Approved\": false, \"PG-13\": false, \"PG\": false, \"Passed\": false, \"GP\": false, \"Highlight\": true}, {\"Rank\": 39, \"Movie Name\": \"American Beauty\", \"Category\": \"R\", \"Rating\": 8.4, \"Income (MUSD)\": 130.1, \"G\": false, \"R\": true, \"Approved\": false, \"PG-13\": false, \"PG\": false, \"Passed\": false, \"GP\": false, \"Highlight\": true}, {\"Rank\": 40, \"Movie Name\": \"As Good as It Gets\", \"Category\": \"PG-13\", \"Rating\": 7.7, \"Income (MUSD)\": 148.48, \"G\": false, \"R\": false, \"Approved\": false, \"PG-13\": true, \"PG\": false, \"Passed\": false, \"GP\": false, \"Highlight\": true}, {\"Rank\": 41, \"Movie Name\": \"Forrest Gump\", \"Category\": \"PG-13\", \"Rating\": 8.8, \"Income (MUSD)\": 330.25, \"G\": false, \"R\": false, \"Approved\": false, \"PG-13\": true, \"PG\": false, \"Passed\": false, \"GP\": false, \"Highlight\": true}, {\"Rank\": 42, \"Movie Name\": \"Singin' in the Rain\", \"Category\": \"G\", \"Rating\": 8.3, \"Income (MUSD)\": 8.82, \"G\": true, \"R\": false, \"Approved\": false, \"PG-13\": false, \"PG\": false, \"Passed\": false, \"GP\": false, \"Highlight\": true}, {\"Rank\": 43, \"Movie Name\": \"Braveheart\", \"Category\": \"R\", \"Rating\": 8.4, \"Income (MUSD)\": 75.6, \"G\": false, \"R\": true, \"Approved\": false, \"PG-13\": false, \"PG\": false, \"Passed\": false, \"GP\": false, \"Highlight\": true}, {\"Rank\": 44, \"Movie Name\": \"Saving Private Ryan\", \"Category\": \"R\", \"Rating\": 8.6, \"Income (MUSD)\": 216.54, \"G\": false, \"R\": true, \"Approved\": false, \"PG-13\": false, \"PG\": false, \"Passed\": false, \"GP\": false, \"Highlight\": true}, {\"Rank\": 45, \"Movie Name\": \"Rain Man\", \"Category\": \"R\", \"Rating\": 8.0, \"Income (MUSD)\": 178.8, \"G\": false, \"R\": true, \"Approved\": false, \"PG-13\": false, \"PG\": false, \"Passed\": false, \"GP\": false, \"Highlight\": true}, {\"Rank\": 46, \"Movie Name\": \"The King's Speech\", \"Category\": \"R\", \"Rating\": 8.0, \"Income (MUSD)\": 138.8, \"G\": false, \"R\": true, \"Approved\": false, \"PG-13\": false, \"PG\": false, \"Passed\": false, \"GP\": false, \"Highlight\": true}, {\"Rank\": 47, \"Movie Name\": \"2001: A Space Odyssey\", \"Category\": \"G\", \"Rating\": 8.3, \"Income (MUSD)\": 56.95, \"G\": true, \"R\": false, \"Approved\": false, \"PG-13\": false, \"PG\": false, \"Passed\": false, \"GP\": false, \"Highlight\": true}, {\"Rank\": 48, \"Movie Name\": \"Kill Bill: Vol. 1\", \"Category\": \"R\", \"Rating\": 8.2, \"Income (MUSD)\": 70.1, \"G\": false, \"R\": true, \"Approved\": false, \"PG-13\": false, \"PG\": false, \"Passed\": false, \"GP\": false, \"Highlight\": true}, {\"Rank\": 49, \"Movie Name\": \"Avanti!\", \"Category\": \"R\", \"Rating\": 7.2, \"Income (MUSD)\": 3.3, \"G\": false, \"R\": true, \"Approved\": false, \"PG-13\": false, \"PG\": false, \"Passed\": false, \"GP\": false, \"Highlight\": true}, {\"Rank\": 50, \"Movie Name\": \"The Good, the Bad and the Ugly\", \"Category\": \"Approved\", \"Rating\": 8.8, \"Income (MUSD)\": 6.1, \"G\": false, \"R\": false, \"Approved\": true, \"PG-13\": false, \"PG\": false, \"Passed\": false, \"GP\": false, \"Highlight\": true}, {\"Rank\": 51, \"Movie Name\": \"Am\\u00e9lie\", \"Category\": \"R\", \"Rating\": 8.3, \"Income (MUSD)\": 33.23, \"G\": false, \"R\": true, \"Approved\": false, \"PG-13\": false, \"PG\": false, \"Passed\": false, \"GP\": false, \"Highlight\": true}, {\"Rank\": 52, \"Movie Name\": \"Modern Times\", \"Category\": \"G\", \"Rating\": 8.5, \"Income (MUSD)\": 0.16, \"G\": true, \"R\": false, \"Approved\": false, \"PG-13\": false, \"PG\": false, \"Passed\": false, \"GP\": false, \"Highlight\": true}, {\"Rank\": 53, \"Movie Name\": \"Lost in Translation\", \"Category\": \"R\", \"Rating\": 7.7, \"Income (MUSD)\": 44.59, \"G\": false, \"R\": true, \"Approved\": false, \"PG-13\": false, \"PG\": false, \"Passed\": false, \"GP\": false, \"Highlight\": true}, {\"Rank\": 54, \"Movie Name\": \"Full Metal Jacket\", \"Category\": \"R\", \"Rating\": 8.3, \"Income (MUSD)\": 46.36, \"G\": false, \"R\": true, \"Approved\": false, \"PG-13\": false, \"PG\": false, \"Passed\": false, \"GP\": false, \"Highlight\": true}, {\"Rank\": 55, \"Movie Name\": \"Requiem for a Dream\", \"Category\": \"R\", \"Rating\": 8.3, \"Income (MUSD)\": 3.64, \"G\": false, \"R\": true, \"Approved\": false, \"PG-13\": false, \"PG\": false, \"Passed\": false, \"GP\": false, \"Highlight\": true}, {\"Rank\": 56, \"Movie Name\": \"Fight Club\", \"Category\": \"R\", \"Rating\": 8.8, \"Income (MUSD)\": 37.03, \"G\": false, \"R\": true, \"Approved\": false, \"PG-13\": false, \"PG\": false, \"Passed\": false, \"GP\": false, \"Highlight\": true}, {\"Rank\": 57, \"Movie Name\": \"No Country for Old Men\", \"Category\": \"R\", \"Rating\": 8.2, \"Income (MUSD)\": 74.28, \"G\": false, \"R\": true, \"Approved\": false, \"PG-13\": false, \"PG\": false, \"Passed\": false, \"GP\": false, \"Highlight\": true}, {\"Rank\": 58, \"Movie Name\": \"Django Unchained\", \"Category\": \"R\", \"Rating\": 8.4, \"Income (MUSD)\": 162.81, \"G\": false, \"R\": true, \"Approved\": false, \"PG-13\": false, \"PG\": false, \"Passed\": false, \"GP\": false, \"Highlight\": true}, {\"Rank\": 59, \"Movie Name\": \"Children of Men\", \"Category\": \"R\", \"Rating\": 7.9, \"Income (MUSD)\": 35.55, \"G\": false, \"R\": true, \"Approved\": false, \"PG-13\": false, \"PG\": false, \"Passed\": false, \"GP\": false, \"Highlight\": true}, {\"Rank\": 60, \"Movie Name\": \"Ratatouille\", \"Category\": \"G\", \"Rating\": 8.1, \"Income (MUSD)\": 206.45, \"G\": true, \"R\": false, \"Approved\": false, \"PG-13\": false, \"PG\": false, \"Passed\": false, \"GP\": false, \"Highlight\": true}, {\"Rank\": 61, \"Movie Name\": \"The Lives of Others\", \"Category\": \"R\", \"Rating\": 8.4, \"Income (MUSD)\": 11.29, \"G\": false, \"R\": true, \"Approved\": false, \"PG-13\": false, \"PG\": false, \"Passed\": false, \"GP\": false, \"Highlight\": true}, {\"Rank\": 62, \"Movie Name\": \"The Prestige\", \"Category\": \"PG-13\", \"Rating\": 8.5, \"Income (MUSD)\": 53.09, \"G\": false, \"R\": false, \"Approved\": false, \"PG-13\": true, \"PG\": false, \"Passed\": false, \"GP\": false, \"Highlight\": true}, {\"Rank\": 63, \"Movie Name\": \"V for Vendetta\", \"Category\": \"R\", \"Rating\": 8.2, \"Income (MUSD)\": 70.51, \"G\": false, \"R\": true, \"Approved\": false, \"PG-13\": false, \"PG\": false, \"Passed\": false, \"GP\": false, \"Highlight\": true}, {\"Rank\": 64, \"Movie Name\": \"Chinatown\", \"Category\": \"R\", \"Rating\": 8.2, \"Income (MUSD)\": 8.49, \"G\": false, \"R\": true, \"Approved\": false, \"PG-13\": false, \"PG\": false, \"Passed\": false, \"GP\": false, \"Highlight\": true}, {\"Rank\": 65, \"Movie Name\": \"City of God\", \"Category\": \"R\", \"Rating\": 8.6, \"Income (MUSD)\": 7.56, \"G\": false, \"R\": true, \"Approved\": false, \"PG-13\": false, \"PG\": false, \"Passed\": false, \"GP\": false, \"Highlight\": true}, {\"Rank\": 66, \"Movie Name\": \"To Have and Have Not\", \"Category\": \"Passed\", \"Rating\": 7.8, \"Income (MUSD)\": 0.0, \"G\": false, \"R\": false, \"Approved\": false, \"PG-13\": false, \"PG\": false, \"Passed\": true, \"GP\": false, \"Highlight\": true}, {\"Rank\": 67, \"Movie Name\": \"Fargo\", \"Category\": \"R\", \"Rating\": 8.1, \"Income (MUSD)\": 24.61, \"G\": false, \"R\": true, \"Approved\": false, \"PG-13\": false, \"PG\": false, \"Passed\": false, \"GP\": false, \"Highlight\": true}, {\"Rank\": 68, \"Movie Name\": \"Life of Pi\", \"Category\": \"PG\", \"Rating\": 7.9, \"Income (MUSD)\": 124.99, \"G\": false, \"R\": false, \"Approved\": false, \"PG-13\": false, \"PG\": true, \"Passed\": false, \"GP\": false, \"Highlight\": true}, {\"Rank\": 69, \"Movie Name\": \"Slumdog Millionaire\", \"Category\": \"R\", \"Rating\": 8.0, \"Income (MUSD)\": 141.32, \"G\": false, \"R\": true, \"Approved\": false, \"PG-13\": false, \"PG\": false, \"Passed\": false, \"GP\": false, \"Highlight\": true}, {\"Rank\": 70, \"Movie Name\": \"Vertigo\", \"Category\": \"PG\", \"Rating\": 8.3, \"Income (MUSD)\": 3.2, \"G\": false, \"R\": false, \"Approved\": false, \"PG-13\": false, \"PG\": true, \"Passed\": false, \"GP\": false, \"Highlight\": true}, {\"Rank\": 71, \"Movie Name\": \"Trainspotting\", \"Category\": \"R\", \"Rating\": 8.1, \"Income (MUSD)\": 16.5, \"G\": false, \"R\": true, \"Approved\": false, \"PG-13\": false, \"PG\": false, \"Passed\": false, \"GP\": false, \"Highlight\": true}, {\"Rank\": 72, \"Movie Name\": \"Interstellar\", \"Category\": \"PG-13\", \"Rating\": 8.6, \"Income (MUSD)\": 188.02, \"G\": false, \"R\": false, \"Approved\": false, \"PG-13\": true, \"PG\": false, \"Passed\": false, \"GP\": false, \"Highlight\": true}, {\"Rank\": 73, \"Movie Name\": \"The Thing\", \"Category\": \"R\", \"Rating\": 8.2, \"Income (MUSD)\": 13.78, \"G\": false, \"R\": true, \"Approved\": false, \"PG-13\": false, \"PG\": false, \"Passed\": false, \"GP\": false, \"Highlight\": true}, {\"Rank\": 74, \"Movie Name\": \"The Third Man\", \"Category\": \"Approved\", \"Rating\": 8.1, \"Income (MUSD)\": 0.45, \"G\": false, \"R\": false, \"Approved\": true, \"PG-13\": false, \"PG\": false, \"Passed\": false, \"GP\": false, \"Highlight\": true}, {\"Rank\": 75, \"Movie Name\": \"12 Monkeys\", \"Category\": \"R\", \"Rating\": 8.0, \"Income (MUSD)\": 57.14, \"G\": false, \"R\": true, \"Approved\": false, \"PG-13\": false, \"PG\": false, \"Passed\": false, \"GP\": false, \"Highlight\": true}, {\"Rank\": 76, \"Movie Name\": \"Life Is Beautiful\", \"Category\": \"PG-13\", \"Rating\": 8.6, \"Income (MUSD)\": 57.6, \"G\": false, \"R\": false, \"Approved\": false, \"PG-13\": true, \"PG\": false, \"Passed\": false, \"GP\": false, \"Highlight\": true}, {\"Rank\": 77, \"Movie Name\": \"The Pianist\", \"Category\": \"R\", \"Rating\": 8.5, \"Income (MUSD)\": 32.57, \"G\": false, \"R\": true, \"Approved\": false, \"PG-13\": false, \"PG\": false, \"Passed\": false, \"GP\": false, \"Highlight\": true}, {\"Rank\": 78, \"Movie Name\": \"Magnolia\", \"Category\": \"R\", \"Rating\": 8.0, \"Income (MUSD)\": 22.46, \"G\": false, \"R\": true, \"Approved\": false, \"PG-13\": false, \"PG\": false, \"Passed\": false, \"GP\": false, \"Highlight\": true}, {\"Rank\": 79, \"Movie Name\": \"The Dark Knight Rises\", \"Category\": \"PG-13\", \"Rating\": 8.4, \"Income (MUSD)\": 448.14, \"G\": false, \"R\": false, \"Approved\": false, \"PG-13\": true, \"PG\": false, \"Passed\": false, \"GP\": false, \"Highlight\": true}, {\"Rank\": 80, \"Movie Name\": \"Star Wars: Episode VII - The Force Awakens\", \"Category\": \"PG-13\", \"Rating\": 7.8, \"Income (MUSD)\": 936.66, \"G\": false, \"R\": false, \"Approved\": false, \"PG-13\": true, \"PG\": false, \"Passed\": false, \"GP\": false, \"Highlight\": true}, {\"Rank\": 81, \"Movie Name\": \"The Hobbit: The Desolation of Smaug\", \"Category\": \"PG-13\", \"Rating\": 7.8, \"Income (MUSD)\": 258.37, \"G\": false, \"R\": false, \"Approved\": false, \"PG-13\": true, \"PG\": false, \"Passed\": false, \"GP\": false, \"Highlight\": true}, {\"Rank\": 82, \"Movie Name\": \"Mad Max: Fury Road\", \"Category\": \"R\", \"Rating\": 8.1, \"Income (MUSD)\": 154.06, \"G\": false, \"R\": true, \"Approved\": false, \"PG-13\": false, \"PG\": false, \"Passed\": false, \"GP\": false, \"Highlight\": true}, {\"Rank\": 83, \"Movie Name\": \"12 Years a Slave\", \"Category\": \"R\", \"Rating\": 8.1, \"Income (MUSD)\": 56.67, \"G\": false, \"R\": true, \"Approved\": false, \"PG-13\": false, \"PG\": false, \"Passed\": false, \"GP\": false, \"Highlight\": true}, {\"Rank\": 84, \"Movie Name\": \"Indiana Jones and the Last Crusade\", \"Category\": \"PG-13\", \"Rating\": 8.2, \"Income (MUSD)\": 197.17, \"G\": false, \"R\": false, \"Approved\": false, \"PG-13\": true, \"PG\": false, \"Passed\": false, \"GP\": false, \"Highlight\": true}, {\"Rank\": 85, \"Movie Name\": \"O Brother, Where Art Thou?\", \"Category\": \"PG-13\", \"Rating\": 7.7, \"Income (MUSD)\": 45.51, \"G\": false, \"R\": false, \"Approved\": false, \"PG-13\": true, \"PG\": false, \"Passed\": false, \"GP\": false, \"Highlight\": true}, {\"Rank\": 86, \"Movie Name\": \"Inglourious Basterds\", \"Category\": \"R\", \"Rating\": 8.3, \"Income (MUSD)\": 120.54, \"G\": false, \"R\": true, \"Approved\": false, \"PG-13\": false, \"PG\": false, \"Passed\": false, \"GP\": false, \"Highlight\": true}, {\"Rank\": 87, \"Movie Name\": \"The Departed\", \"Category\": \"R\", \"Rating\": 8.5, \"Income (MUSD)\": 132.38, \"G\": false, \"R\": true, \"Approved\": false, \"PG-13\": false, \"PG\": false, \"Passed\": false, \"GP\": false, \"Highlight\": true}, {\"Rank\": 88, \"Movie Name\": \"A Beautiful Mind\", \"Category\": \"PG-13\", \"Rating\": 8.2, \"Income (MUSD)\": 170.74, \"G\": false, \"R\": false, \"Approved\": false, \"PG-13\": true, \"PG\": false, \"Passed\": false, \"GP\": false, \"Highlight\": true}, {\"Rank\": 89, \"Movie Name\": \"District 9\", \"Category\": \"R\", \"Rating\": 7.9, \"Income (MUSD)\": 115.65, \"G\": false, \"R\": true, \"Approved\": false, \"PG-13\": false, \"PG\": false, \"Passed\": false, \"GP\": false, \"Highlight\": true}, {\"Rank\": 90, \"Movie Name\": \"The Piano\", \"Category\": \"R\", \"Rating\": 7.5, \"Income (MUSD)\": 40.16, \"G\": false, \"R\": true, \"Approved\": false, \"PG-13\": false, \"PG\": false, \"Passed\": false, \"GP\": false, \"Highlight\": true}, {\"Rank\": 91, \"Movie Name\": \"Mystic River\", \"Category\": \"R\", \"Rating\": 7.9, \"Income (MUSD)\": 90.14, \"G\": false, \"R\": true, \"Approved\": false, \"PG-13\": false, \"PG\": false, \"Passed\": false, \"GP\": false, \"Highlight\": true}, {\"Rank\": 92, \"Movie Name\": \"The Insider\", \"Category\": \"R\", \"Rating\": 7.8, \"Income (MUSD)\": 28.97, \"G\": false, \"R\": true, \"Approved\": false, \"PG-13\": false, \"PG\": false, \"Passed\": false, \"GP\": false, \"Highlight\": true}, {\"Rank\": 93, \"Movie Name\": \"L.A. Confidential\", \"Category\": \"R\", \"Rating\": 8.2, \"Income (MUSD)\": 64.62, \"G\": false, \"R\": true, \"Approved\": false, \"PG-13\": false, \"PG\": false, \"Passed\": false, \"GP\": false, \"Highlight\": true}, {\"Rank\": 94, \"Movie Name\": \"Heat\", \"Category\": \"R\", \"Rating\": 8.3, \"Income (MUSD)\": 67.44, \"G\": false, \"R\": true, \"Approved\": false, \"PG-13\": false, \"PG\": false, \"Passed\": false, \"GP\": false, \"Highlight\": true}, {\"Rank\": 95, \"Movie Name\": \"The Usual Suspects\", \"Category\": \"R\", \"Rating\": 8.5, \"Income (MUSD)\": 23.34, \"G\": false, \"R\": true, \"Approved\": false, \"PG-13\": false, \"PG\": false, \"Passed\": false, \"GP\": false, \"Highlight\": true}, {\"Rank\": 96, \"Movie Name\": \"Cool Hand Luke\", \"Category\": \"GP\", \"Rating\": 8.1, \"Income (MUSD)\": 16.22, \"G\": false, \"R\": false, \"Approved\": false, \"PG-13\": false, \"PG\": false, \"Passed\": false, \"GP\": true, \"Highlight\": true}, {\"Rank\": 97, \"Movie Name\": \"Eternal Sunshine of the Spotless Mind\", \"Category\": \"R\", \"Rating\": 8.3, \"Income (MUSD)\": 34.4, \"G\": false, \"R\": true, \"Approved\": false, \"PG-13\": false, \"PG\": false, \"Passed\": false, \"GP\": false, \"Highlight\": true}, {\"Rank\": 98, \"Movie Name\": \"City Lights\", \"Category\": \"G\", \"Rating\": 8.5, \"Income (MUSD)\": 0.02, \"G\": true, \"R\": false, \"Approved\": false, \"PG-13\": false, \"PG\": false, \"Passed\": false, \"GP\": false, \"Highlight\": true}, {\"Rank\": 99, \"Movie Name\": \"The Matrix\", \"Category\": \"R\", \"Rating\": 8.7, \"Income (MUSD)\": 171.48, \"G\": false, \"R\": true, \"Approved\": false, \"PG-13\": false, \"PG\": false, \"Passed\": false, \"GP\": false, \"Highlight\": true}]}}, {\"mode\": \"vega-lite\"});\n",
       "</script>"
      ],
      "text/plain": [
       "alt.VConcatChart(...)"
      ]
     },
     "execution_count": 15,
     "metadata": {},
     "output_type": "execute_result"
    }
   ],
   "source": [
    "# The information we want to display on tooltips\n",
    "tooltip_cols = ['Movie Name', 'Rank', 'Category', 'Rating','Income (MUSD)']\n",
    "\n",
    "# The selection mechanisms on the graphs\n",
    "brush = alt.selection_interval(encodings=['x'])\n",
    "# single = alt.selection_single()\n",
    "\n",
    "# The graph opacity condition for local selection (brush and click)\n",
    "# opacity = alt.condition(brush | single, alt.value(0.9), alt.value(0.1))\n",
    "opacity = alt.condition(brush, alt.value(0.9), alt.value(0.1))\n",
    "\n",
    "# The chart for scatter plot of the ratings of the movies and their gross_total\n",
    "points = alt.Chart(movies).mark_point(filled=True).encode(\n",
    "    x=alt.X('Rating',\n",
    "        scale=alt.Scale(zero=False, padding=8),\n",
    "    ),\n",
    "    y=alt.Y('Income (MUSD)',\n",
    "        scale=alt.Scale(zero=False, padding=25),\n",
    "        \n",
    "    ),\n",
    "    tooltip=tooltip_cols,\n",
    "    color=alt.condition(\n",
    "        alt.datum['Highlight'],\n",
    "        alt.Color('Rank:Q',\n",
    "            scale=alt.Scale(scheme='yellowgreenblue')\n",
    "        ),\n",
    "        \n",
    "        alt.value('grey')\n",
    "    ),\n",
    "    size='Rating',\n",
    "    opacity=opacity\n",
    ").add_selection(\n",
    "    brush,\n",
    ").properties(\n",
    "    width=chart_width,\n",
    "    height=chart_height.value\n",
    ")\n",
    "\n",
    "line = alt.Chart(movies).mark_rule(color='firebrick').encode(\n",
    "#     x=alt.X('Rating',\n",
    "#         scale=alt.Scale(zero=False, padding=8),\n",
    "#     ),\n",
    "    y=alt.Y('mean(Income (MUSD)):Q'),\n",
    "    size=alt.SizeValue(3)\n",
    ").transform_filter(\n",
    "    brush,\n",
    ").properties(\n",
    "    width=chart_width,\n",
    "    height=chart_height.value\n",
    ")\n",
    "\n",
    "\n",
    "\n",
    "if selected_categories.value:\n",
    "    average = alt.Chart(filtered_movies).mark_line().encode(\n",
    "        alt.X('Rating',\n",
    "            scale=alt.Scale(padding=8),\n",
    "        ),\n",
    "        alt.Y('mean(Income (MUSD)):Q',\n",
    "#             scale=alt.Scale(padding=25)\n",
    "        ),\n",
    "#         tooltip=tooltip_cols,\n",
    "        color=alt.value('purple'),   \n",
    "        opacity=opacity,\n",
    "    ).add_selection(\n",
    "        brush,\n",
    "    ).properties(\n",
    "        width=chart_width,\n",
    "        height=chart_height.value\n",
    "    )\n",
    "\n",
    "# Vertically stack the two charts\n",
    "top = (points + line)\n",
    "final = (top & average) if selected_categories.value else top\n",
    "final.configure_axis(\n",
    "    labelFontSize=10,\n",
    "    titleFontSize=20\n",
    ")\n"
   ]
  },
  {
   "cell_type": "code",
   "execution_count": 16,
   "id": "46bcc333",
   "metadata": {},
   "outputs": [
    {
     "data": {
      "text/html": [
       "<div>\n",
       "<style scoped>\n",
       "    .dataframe tbody tr th:only-of-type {\n",
       "        vertical-align: middle;\n",
       "    }\n",
       "\n",
       "    .dataframe tbody tr th {\n",
       "        vertical-align: top;\n",
       "    }\n",
       "\n",
       "    .dataframe thead th {\n",
       "        text-align: right;\n",
       "    }\n",
       "</style>\n",
       "<table border=\"1\" class=\"dataframe\">\n",
       "  <thead>\n",
       "    <tr style=\"text-align: right;\">\n",
       "      <th></th>\n",
       "      <th>Movie Name</th>\n",
       "      <th>Category</th>\n",
       "      <th>Rating</th>\n",
       "      <th>Income (MUSD)</th>\n",
       "    </tr>\n",
       "    <tr>\n",
       "      <th>Rank</th>\n",
       "      <th></th>\n",
       "      <th></th>\n",
       "      <th></th>\n",
       "      <th></th>\n",
       "    </tr>\n",
       "  </thead>\n",
       "  <tbody>\n",
       "    <tr>\n",
       "      <th>1</th>\n",
       "      <td>The Godfather</td>\n",
       "      <td>R</td>\n",
       "      <td>9.2</td>\n",
       "      <td>134.97</td>\n",
       "    </tr>\n",
       "    <tr>\n",
       "      <th>2</th>\n",
       "      <td>The Silence of the Lambs</td>\n",
       "      <td>R</td>\n",
       "      <td>8.6</td>\n",
       "      <td>130.74</td>\n",
       "    </tr>\n",
       "    <tr>\n",
       "      <th>3</th>\n",
       "      <td>Star Wars: Episode V - The Empire Strikes Back</td>\n",
       "      <td>PG</td>\n",
       "      <td>8.7</td>\n",
       "      <td>290.48</td>\n",
       "    </tr>\n",
       "    <tr>\n",
       "      <th>4</th>\n",
       "      <td>The Shawshank Redemption</td>\n",
       "      <td>R</td>\n",
       "      <td>9.3</td>\n",
       "      <td>28.34</td>\n",
       "    </tr>\n",
       "    <tr>\n",
       "      <th>5</th>\n",
       "      <td>The Shining</td>\n",
       "      <td>R</td>\n",
       "      <td>8.4</td>\n",
       "      <td>44.02</td>\n",
       "    </tr>\n",
       "    <tr>\n",
       "      <th>...</th>\n",
       "      <td>...</td>\n",
       "      <td>...</td>\n",
       "      <td>...</td>\n",
       "      <td>...</td>\n",
       "    </tr>\n",
       "    <tr>\n",
       "      <th>95</th>\n",
       "      <td>The Usual Suspects</td>\n",
       "      <td>R</td>\n",
       "      <td>8.5</td>\n",
       "      <td>23.34</td>\n",
       "    </tr>\n",
       "    <tr>\n",
       "      <th>96</th>\n",
       "      <td>Cool Hand Luke</td>\n",
       "      <td>GP</td>\n",
       "      <td>8.1</td>\n",
       "      <td>16.22</td>\n",
       "    </tr>\n",
       "    <tr>\n",
       "      <th>97</th>\n",
       "      <td>Eternal Sunshine of the Spotless Mind</td>\n",
       "      <td>R</td>\n",
       "      <td>8.3</td>\n",
       "      <td>34.40</td>\n",
       "    </tr>\n",
       "    <tr>\n",
       "      <th>98</th>\n",
       "      <td>City Lights</td>\n",
       "      <td>G</td>\n",
       "      <td>8.5</td>\n",
       "      <td>0.02</td>\n",
       "    </tr>\n",
       "    <tr>\n",
       "      <th>99</th>\n",
       "      <td>The Matrix</td>\n",
       "      <td>R</td>\n",
       "      <td>8.7</td>\n",
       "      <td>171.48</td>\n",
       "    </tr>\n",
       "  </tbody>\n",
       "</table>\n",
       "<p>99 rows × 4 columns</p>\n",
       "</div>"
      ],
      "text/plain": [
       "                                          Movie Name Category  Rating  \\\n",
       "Rank                                                                    \n",
       "1                                      The Godfather        R     9.2   \n",
       "2                           The Silence of the Lambs        R     8.6   \n",
       "3     Star Wars: Episode V - The Empire Strikes Back       PG     8.7   \n",
       "4                           The Shawshank Redemption        R     9.3   \n",
       "5                                        The Shining        R     8.4   \n",
       "...                                              ...      ...     ...   \n",
       "95                                The Usual Suspects        R     8.5   \n",
       "96                                    Cool Hand Luke       GP     8.1   \n",
       "97             Eternal Sunshine of the Spotless Mind        R     8.3   \n",
       "98                                       City Lights        G     8.5   \n",
       "99                                        The Matrix        R     8.7   \n",
       "\n",
       "      Income (MUSD)  \n",
       "Rank                 \n",
       "1            134.97  \n",
       "2            130.74  \n",
       "3            290.48  \n",
       "4             28.34  \n",
       "5             44.02  \n",
       "...             ...  \n",
       "95            23.34  \n",
       "96            16.22  \n",
       "97            34.40  \n",
       "98             0.02  \n",
       "99           171.48  \n",
       "\n",
       "[99 rows x 4 columns]"
      ]
     },
     "execution_count": 16,
     "metadata": {},
     "output_type": "execute_result"
    }
   ],
   "source": [
    "# Display the filtered table of movies\n",
    "if selected_categories.value:\n",
    "    display_movies = filtered_movies.set_index('Rank')\n",
    "display_movies[['Movie Name', 'Category', 'Rating','Income (MUSD)']] if selected_categories.value else None"
   ]
  },
  {
   "cell_type": "markdown",
   "id": "319530c2",
   "metadata": {},
   "source": [
    "Made with ❤️ by Group 18.\n",
    "\n",
    "February 2023"
   ]
  }
 ],
 "metadata": {
  "kernelspec": {
   "display_name": "Python 3 (ipykernel)",
   "language": "python",
   "name": "python3"
  },
  "language_info": {
   "codemirror_mode": {
    "name": "ipython",
    "version": 3
   },
   "file_extension": ".py",
   "mimetype": "text/x-python",
   "name": "python",
   "nbconvert_exporter": "python",
   "pygments_lexer": "ipython3",
   "version": "3.10.9"
  }
 },
 "nbformat": 4,
 "nbformat_minor": 5
}
